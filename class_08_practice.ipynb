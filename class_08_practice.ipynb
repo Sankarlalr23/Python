{
 "cells": [
  {
   "cell_type": "code",
   "execution_count": 2,
   "metadata": {},
   "outputs": [
    {
     "name": "stdout",
     "output_type": "stream",
     "text": [
      "10\n",
      "20\n",
      "cba\n"
     ]
    }
   ],
   "source": [
    "num1 =int(input())             #the input function returns string values, hence we have to do typecasting to change to int\n",
    "num2 =int(input())\n",
    "\n",
    "if num1>num2:\n",
    "    print('abc')\n",
    "# print(num1)\n",
    "else:\n",
    "    print('cba')"
   ]
  },
  {
   "cell_type": "markdown",
   "metadata": {},
   "source": [
    "## Leap year"
   ]
  },
  {
   "cell_type": "code",
   "execution_count": 22,
   "metadata": {},
   "outputs": [
    {
     "name": "stdout",
     "output_type": "stream",
     "text": [
      "Enter the year 1700\n",
      "Non Leap year\n"
     ]
    }
   ],
   "source": [
    "year = int(input(\"Enter the year \"))\n",
    "\n",
    "if year%4==0 and year%100!= 0:\n",
    "    print(\"leap year\")\n",
    "elif year%100==0 and year%400 == 0:\n",
    "    print('leap year')\n",
    "else:\n",
    "    print('Non Leap year')"
   ]
  },
  {
   "cell_type": "code",
   "execution_count": 13,
   "metadata": {},
   "outputs": [
    {
     "name": "stdout",
     "output_type": "stream",
     "text": [
      "Enter the year2000\n",
      "leap year\n"
     ]
    }
   ],
   "source": [
    "year = int(input(\"Enter the year \"))\n",
    "\n",
    "if year%4==0:\n",
    "    if year%100==0:\n",
    "        if year%400 == 0:\n",
    "            print('leap year')\n",
    "        else:\n",
    "            print('Non Leap year')\n",
    "    else:\n",
    "            print('Leap year')\n",
    "    \n",
    "else:\n",
    "    print('Non Leap year')"
   ]
  },
  {
   "cell_type": "code",
   "execution_count": 32,
   "metadata": {},
   "outputs": [
    {
     "name": "stdout",
     "output_type": "stream",
     "text": [
      "2004 is leap year\n",
      "2000 is leap year\n",
      "2020 is leap year\n",
      "1700 is Non leap year\n",
      "2100 is Non leap year\n"
     ]
    }
   ],
   "source": [
    "# year = int(input(\"Enter the year \"))\n",
    "year = [2004,2000,2020,1700,2100]\n",
    "\n",
    "for i in year:\n",
    "    if ((i%4==0 and i%100!=0) or i%400==0):\n",
    "        print('%d is leap year' %i)\n",
    "    else:\n",
    "        print(f'{i} is Non leap year')"
   ]
  },
  {
   "cell_type": "markdown",
   "metadata": {},
   "source": [
    "## Number is divisible by 5 & 11"
   ]
  },
  {
   "cell_type": "code",
   "execution_count": 43,
   "metadata": {},
   "outputs": [
    {
     "name": "stdout",
     "output_type": "stream",
     "text": [
      "Enter a number 121\n",
      "121 is not divisible by 5 & ll\n"
     ]
    }
   ],
   "source": [
    "num = int(input('Enter a number '))\n",
    "\n",
    "if num%5==0 and num%11==0:\n",
    "    print(f\"{num} is divisible by 5 & ll\")\n",
    "else:\n",
    "    print(f\"{num} is not divisible by 5 & ll\")"
   ]
  },
  {
   "cell_type": "code",
   "execution_count": 41,
   "metadata": {},
   "outputs": [
    {
     "name": "stdout",
     "output_type": "stream",
     "text": [
      "Enter a number 121\n",
      "121 is divisible by 11, not 5\n"
     ]
    }
   ],
   "source": [
    "num = int(input('Enter a number '))\n",
    "\n",
    "if num%5==0 and num%11==0:\n",
    "    print(f\"{num} is divisible by 5 & ll\")\n",
    "elif num%5==0 or num%11==0:\n",
    "    if num%5 == 0:\n",
    "        print(f\"{num} is divisible by 5, not ll\")\n",
    "    else:\n",
    "        print(f\"{num} is divisible by 11, not 5\")\n",
    "elif num%5!=0 and num%11!=0:\n",
    "    print(f\"{num} is neither divisible by 5, nor 11\")"
   ]
  },
  {
   "cell_type": "code",
   "execution_count": 37,
   "metadata": {},
   "outputs": [
    {
     "name": "stdout",
     "output_type": "stream",
     "text": [
      "Enter a number 123\n",
      "123 is neither divisible by 5 nor ll\n"
     ]
    }
   ],
   "source": [
    "num = int(input('Enter a number '))\n",
    "\n",
    "if num%5==0:\n",
    "    if num%11==0:\n",
    "        print(f\"{num} is divisible by 5 & ll\")\n",
    "    else:\n",
    "        print(f\"{num} is divisible by 5, not ll\")\n",
    "else:\n",
    "    if num%11==0:\n",
    "        print(f\"{num} is divisible by 11, not 5\")\n",
    "    else:\n",
    "        print(f\"{num} is neither divisible by 5 nor ll\")"
   ]
  },
  {
   "cell_type": "markdown",
   "metadata": {},
   "source": [
    "## a character is alphabet or not"
   ]
  },
  {
   "cell_type": "code",
   "execution_count": 9,
   "metadata": {},
   "outputs": [
    {
     "name": "stdout",
     "output_type": "stream",
     "text": [
      "Enter the character = a\n",
      "a is an alphabet\n"
     ]
    }
   ],
   "source": [
    "# print(ord(('a')))  #97\n",
    "# print(ord(('z')))  #122 \n",
    "# print(ord(('A')))  #65\n",
    "# print(ord(('Z')))  #90\n",
    "\n",
    "# print(chr(97))\n",
    "\n",
    "char = input('Enter the character = ')\n",
    "if (ord(char) in range (65,91)) or (ord(char) in range (97,123)):\n",
    "    print(f'{char} is an alphabet')\n",
    "else:\n",
    "    print(f'{char} is not an alphabet')"
   ]
  },
  {
   "cell_type": "markdown",
   "metadata": {},
   "source": [
    "## a number is even or odd"
   ]
  },
  {
   "cell_type": "code",
   "execution_count": 34,
   "metadata": {},
   "outputs": [
    {
     "name": "stdout",
     "output_type": "stream",
     "text": [
      "Enter a number: -154\n",
      "-154 is even\n"
     ]
    }
   ],
   "source": [
    "num = int(input('Enter a number: '))\n",
    "\n",
    "if num%2==0:\n",
    "    print(f'{num} is even')\n",
    "else:\n",
    "    print(f'{num} is odd')"
   ]
  },
  {
   "cell_type": "markdown",
   "metadata": {},
   "source": [
    "## input any alphabet and check whether it is vowel or consonant"
   ]
  },
  {
   "cell_type": "code",
   "execution_count": 41,
   "metadata": {},
   "outputs": [
    {
     "name": "stdout",
     "output_type": "stream",
     "text": [
      "Enter the alphabet: a\n",
      "a is a vowel\n"
     ]
    }
   ],
   "source": [
    "vowels = ['a','e','i','o','u','A','E','I','O','U']\n",
    "\n",
    "alphabet = input('Enter the alphabet: ')\n",
    "\n",
    "if alphabet in vowels:\n",
    "    print(f'{alphabet} is a vowel')\n",
    "else:\n",
    "    print(f'{alphabet} is a consonant')"
   ]
  },
  {
   "cell_type": "markdown",
   "metadata": {},
   "source": [
    "## input any character and check whether it is alphabet, digit or special character"
   ]
  },
  {
   "cell_type": "code",
   "execution_count": 83,
   "metadata": {},
   "outputs": [
    {
     "name": "stdout",
     "output_type": "stream",
     "text": [
      "Enter the character: a\n",
      "a is an alphabet\n"
     ]
    }
   ],
   "source": [
    "# print(ord('a'))\n",
    "# print(ord('z'))\n",
    "# # print(ord('A'))\n",
    "# # print(ord('Z'))\n",
    "# # print(ord('0'))\n",
    "# # print(ord('9'))\n",
    "\n",
    "char = input('Enter the character: ')\n",
    "ord_char = ord(char)\n",
    "\n",
    "if (ord_char in range (65,91)) or (ord_char in range (97,123)):\n",
    "     print(f'{char} is an alphabet')\n",
    "        \n",
    "elif ord_char in range (48,58):\n",
    "     print(f'{char} is a digit')\n",
    "else:\n",
    "    print(f'{char} is a special character')\n"
   ]
  },
  {
   "cell_type": "markdown",
   "metadata": {},
   "source": [
    "## a character is uppercase or lowercase alphabet"
   ]
  },
  {
   "cell_type": "code",
   "execution_count": 67,
   "metadata": {},
   "outputs": [
    {
     "name": "stdout",
     "output_type": "stream",
     "text": [
      "Enter the character: Z\n",
      "Z is an uppercase alphabet\n"
     ]
    }
   ],
   "source": [
    "char = input('Enter the character: ')\n",
    "ord_char = ord(char)\n",
    "\n",
    "if ord_char in range (65,91):\n",
    "    print(f'{char} is an uppercase alphabet')\n",
    "elif ord_char in range (97,123):\n",
    "     print(f'{char} is a lowercase alphabet')\n",
    "else:\n",
    "    print(f'{char} is not an alphabet')"
   ]
  },
  {
   "cell_type": "markdown",
   "metadata": {},
   "source": [
    "## input week number and print week day"
   ]
  },
  {
   "cell_type": "code",
   "execution_count": 103,
   "metadata": {},
   "outputs": [
    {
     "name": "stdout",
     "output_type": "stream",
     "text": [
      "Enter week no. in between 1 & 7: 6\n",
      "6th day is Saturday\n",
      "6th day is Saturday\n"
     ]
    }
   ],
   "source": [
    "#USING LIST\n",
    "\n",
    "weekday = ['Monday','Tuesday','Wednesday','Thursday','Friday','Saturday','Sunday']\n",
    "\n",
    "day_no = int(input(\"Enter week no. in between 1 & 7: \"))\n",
    "print(f'{day_no}th day is {weekday[day_no - 1]}')\n",
    "\n",
    "#USING DICT\n",
    "\n",
    "weekday = {1:'Monday',2:'Tuesday',3:'Wednesday',4:'Thursday',5:'Friday',6:'Saturday',7:'Sunday'}\n",
    "\n",
    "# day_no = int(input(\"Enter week no. in between 1 & 7: \"))\n",
    "if day_no in weekday:\n",
    "    print(f'{day_no}th day is {weekday[day_no]}')\n",
    "\n"
   ]
  },
  {
   "cell_type": "markdown",
   "metadata": {},
   "source": [
    "## input month number and print number of days in that month"
   ]
  },
  {
   "cell_type": "code",
   "execution_count": 85,
   "metadata": {},
   "outputs": [
    {
     "name": "stdout",
     "output_type": "stream",
     "text": [
      "Enter month number: 2\n",
      "No. of days is 28\n"
     ]
    }
   ],
   "source": [
    "month_no = int(input(\"Enter month number: \"))\n",
    "\n",
    "if month_no in range (1,8):\n",
    "    if month_no%2 != 0:\n",
    "        print('No. of days is 31')\n",
    "    elif month_no == 2:\n",
    "        print('No. of days is 28')\n",
    "    else:\n",
    "        print('No. of days is 30')\n",
    "elif month_no in range (8,13):\n",
    "    if month_no%2 == 0:\n",
    "        print('No. of days is 31')\n",
    "    else:\n",
    "        print('No. of days is 30')"
   ]
  },
  {
   "cell_type": "code",
   "execution_count": 1,
   "metadata": {},
   "outputs": [
    {
     "name": "stdout",
     "output_type": "stream",
     "text": [
      "Jan - 31 days\n"
     ]
    }
   ],
   "source": [
    "dic = {1:'Jan - 31 days',2:['Feb - 28 days']}\n",
    "\n",
    "no = 1\n",
    "\n",
    "if no in dic:\n",
    "    print(dic[no])"
   ]
  },
  {
   "cell_type": "markdown",
   "metadata": {},
   "source": [
    "## input angles of a triangle and check whether triangle is valid or not"
   ]
  },
  {
   "cell_type": "code",
   "execution_count": 125,
   "metadata": {},
   "outputs": [
    {
     "name": "stdout",
     "output_type": "stream",
     "text": [
      "Enter angle of triangle: 150\n",
      "Enter angle of triangle: 30\n",
      "Enter angle of triangle: 0\n",
      "Traingle is not valid\n"
     ]
    }
   ],
   "source": [
    "angle = []\n",
    "for i in range (0,3):\n",
    "    angle.append(int(input('Enter angle of triangle: ')))\n",
    "# print(angle)\n",
    "\n",
    "# # test = 0\n",
    "\n",
    "# for i in angle:\n",
    "#     if i == 0:\n",
    "#         print('Traingle is not valid')\n",
    "#         test = 1\n",
    "#         break   \n",
    "# if test==0 and sum(angle) == 180:\n",
    "#     print('Traingle is valid')\n",
    "# elif test==0:\n",
    "#     print('Traingle is not valid')\n",
    "\n",
    "if all(flag > 0 for flag in angle):\n",
    "    if sum(angle) == 180:\n",
    "        print('Traingle is valid')\n",
    "    else:\n",
    "        print('Traingle is not valid')\n",
    "else:\n",
    "    print('Traingle is not valid')"
   ]
  },
  {
   "cell_type": "markdown",
   "metadata": {},
   "source": [
    "## find all roots of a quadratic equation"
   ]
  },
  {
   "cell_type": "code",
   "execution_count": 11,
   "metadata": {},
   "outputs": [
    {
     "name": "stdout",
     "output_type": "stream",
     "text": [
      "For quadratic equation in form ax^2 + bx + c = 0 \n",
      "a : 1\n",
      "b : -4\n",
      "c : 4\n",
      "The square root is 2.00\n"
     ]
    }
   ],
   "source": [
    "print('For quadratic equation in form ax^2 + bx + c = 0 ')\n",
    "\n",
    "a = int(input('a : '))\n",
    "b = int(input('b : '))\n",
    "c = int(input('c : '))\n",
    "\n",
    "if (b**2 - 4*a*c) == 0:\n",
    "    sqrt = (-b)/(2*a)\n",
    "    print('The square root is {:.2f}'.format(sqrt))\n",
    "\n",
    "else:\n",
    "    sqrt1 = ((-b) + ((b**2 - 4*a*c)**0.5))/(2*a) \n",
    "    sqrt2 = ((-b) - ((b**2 - 4*a*c)**0.5))/(2*a) \n",
    "    print('The square roots are {:.2f} and {:.2f}'.format(sqrt1,sqrt2))\n"
   ]
  },
  {
   "cell_type": "code",
   "execution_count": null,
   "metadata": {},
   "outputs": [],
   "source": []
  }
 ],
 "metadata": {
  "kernelspec": {
   "display_name": "Python 3",
   "language": "python",
   "name": "python3"
  },
  "language_info": {
   "codemirror_mode": {
    "name": "ipython",
    "version": 3
   },
   "file_extension": ".py",
   "mimetype": "text/x-python",
   "name": "python",
   "nbconvert_exporter": "python",
   "pygments_lexer": "ipython3",
   "version": "3.7.6"
  }
 },
 "nbformat": 4,
 "nbformat_minor": 4
}
