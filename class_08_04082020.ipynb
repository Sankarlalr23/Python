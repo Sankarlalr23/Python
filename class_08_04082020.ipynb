{
 "cells": [
  {
   "cell_type": "code",
   "execution_count": null,
   "metadata": {},
   "outputs": [],
   "source": [
    "# Operator Precedence\n",
    "# ()\n",
    "# **\n",
    "# ~,- Bitwise complement and unary Minus\n",
    "# *,/,%,//\n",
    "# +,-\n",
    "# <<,>>\n",
    "# &\n",
    "# ^\n",
    "# |\n",
    "# >,>=,<,<=,==,!=\n",
    "# =,+=,-=...\n",
    "# is, is not\n",
    "# in, not in\n",
    "# not\n",
    "# and\n",
    "# or\n",
    "\n",
    "# Conditional statements, loop,"
   ]
  },
  {
   "cell_type": "code",
   "execution_count": null,
   "metadata": {},
   "outputs": [],
   "source": [
    "# if, elif,else\n",
    "\n",
    "if expression(True/False):\n",
    "    logic"
   ]
  },
  {
   "cell_type": "code",
   "execution_count": null,
   "metadata": {},
   "outputs": [],
   "source": [
    "stat1\n",
    "stat2\n",
    "stat3\n",
    "stat4\n",
    "stat5\n",
    "stat6\n",
    "stat7\n",
    "stat8\n",
    "stat9\n",
    "\n"
   ]
  },
  {
   "cell_type": "code",
   "execution_count": 8,
   "metadata": {},
   "outputs": [
    {
     "name": "stdout",
     "output_type": "stream",
     "text": [
      "Enter 1st number: 100\n",
      "Enter 2nd number: 200\n",
      "Enter 3rd number: 300\n",
      "num1 is greater than num2\n",
      "-100\n",
      "100\n",
      "200\n"
     ]
    }
   ],
   "source": [
    "# if statement and nested if statement\n",
    "# stat1\n",
    "# stat2\n",
    "# if expression:\n",
    "#     stat3\n",
    "#     stat4\n",
    "#     stat5\n",
    "#     if expression:\n",
    "#         stat6\n",
    "#         stat7\n",
    "# stat8\n",
    "# stat9\n",
    "\n",
    "num1 = int(input('Enter 1st number: '))\n",
    "num2 = int(input('Enter 2nd number: '))\n",
    "num3 = int(input('Enter 3rd number: '))\n",
    "if 100:\n",
    "    print('num1 is greater than num2')\n",
    "    print(num1-num2)\n",
    "    print(num1)\n",
    "    print(num2)\n",
    "    if num1>num3:\n",
    "        print('num1 is greater than num3')\n",
    "        print(num1-num3)\n",
    "        print(num3)\n",
    "    else:\n",
    "        print('num1 is not greater than num3')"
   ]
  },
  {
   "cell_type": "code",
   "execution_count": 14,
   "metadata": {},
   "outputs": [
    {
     "ename": "SyntaxError",
     "evalue": "invalid syntax (<ipython-input-14-48267b10f6ca>, line 19)",
     "output_type": "error",
     "traceback": [
      "\u001b[0;36m  File \u001b[0;32m\"<ipython-input-14-48267b10f6ca>\"\u001b[0;36m, line \u001b[0;32m19\u001b[0m\n\u001b[0;31m    else:\u001b[0m\n\u001b[0m       ^\u001b[0m\n\u001b[0;31mSyntaxError\u001b[0m\u001b[0;31m:\u001b[0m invalid syntax\n"
     ]
    }
   ],
   "source": [
    "# If - else and else is completely optional\n",
    "# stat1\n",
    "# stat2\n",
    "# if expression:\n",
    "#     stat3\n",
    "#     stat4\n",
    "#     stat5\n",
    "# else:    \n",
    "#     stat6\n",
    "#     stat7\n",
    "#     stat8\n",
    "# stat9\n",
    "\n",
    "# num1 = int(input('Enter 1st number: '))\n",
    "# num2 = int(input('Enter 2nd number: '))\n",
    "# if num1>num2:\n",
    "#     print('num1 is greater than num2')\n",
    "\n",
    "# else:\n",
    "#     print('num1 is not greater than num2')\n",
    "#     print(num2-num1)\n",
    "#     print(num1)\n",
    "#     print(num2)\n",
    "# print(num1-num2)\n",
    "# print(num1)\n",
    "# print(num2)\n",
    "# else:\n",
    "#     print('Hi')\n"
   ]
  },
  {
   "cell_type": "code",
   "execution_count": 16,
   "metadata": {},
   "outputs": [],
   "source": [
    "# Multi condition if statment - if elif\n",
    "# stat1\n",
    "# stat2\n",
    "# if expression:\n",
    "#     stat3\n",
    "#     stat4\n",
    "#     stat5\n",
    "# elif expression:\n",
    "#     stat11\n",
    "#     stat12\n",
    "#     stat13\n",
    "# elif expression:\n",
    "#     stat21\n",
    "#     stat22\n",
    "#     stat23   \n",
    "# else:    \n",
    "#     stat6\n",
    "#     stat7\n",
    "#     stat8\n",
    "# stat9\n",
    "\n",
    "\n",
    "# num1 = int(input('Enter 1st number: '))\n",
    "# num2 = int(input('Enter 2nd number: '))\n",
    "# num3 = int(input('Enter 3rd number: '))\n",
    "# if num1>num2 and num1>num3:\n",
    "#     print('num1 is greater than num2 and num3')\n",
    "#     print(num1)\n",
    "#     print(num2)\n",
    "#     print(num3)\n",
    "# elif num2>num3:\n",
    "#     print('num2 is greater than num1 and num3')\n",
    "# else:\n",
    "#     print('num3 is greater than num1 and num2')\n",
    "\n",
    "\n",
    "\n",
    "\n"
   ]
  },
  {
   "cell_type": "code",
   "execution_count": 23,
   "metadata": {},
   "outputs": [
    {
     "name": "stdout",
     "output_type": "stream",
     "text": [
      "100\n",
      "Enter some number20\n",
      "100 <class 'int'>\n",
      "5.0\n"
     ]
    }
   ],
   "source": [
    "a = int(input())\n",
    "b = float(input('Enter some number'))\n",
    "print(a, type(a))\n",
    "print(a/b)\n",
    "\n",
    "# Type casting using built in function is possible only for fundamental data type\n",
    "# For derived data type - eval()  to do the type casting"
   ]
  },
  {
   "cell_type": "code",
   "execution_count": 42,
   "metadata": {},
   "outputs": [
    {
     "name": "stdout",
     "output_type": "stream",
     "text": [
      "Enter an year: 2004\n",
      "2004 is a Leap Year\n"
     ]
    }
   ],
   "source": [
    "# Write a code to find whether an year is leap year\n",
    "# leap year:- 1200,1600,2000,2004,2020\n",
    "# Non Leap year - 1967, 1700,1900\n",
    "\n",
    "# If yesr is divisible by 4 - leap year\n",
    "# If year is divisible by 4 and 100 - check whether divisible by 400 - If True - Leap year and if False - Non leap year\n",
    "# if not divisible by 4 then non leap year\n",
    "\n",
    "year = int(input('Enter an year: '))\n",
    "# if year % 4 == 0:\n",
    "#     if year % 100 == 0:\n",
    "#         if year % 400 == 0:\n",
    "#             print('Year is leap year')\n",
    "#         else:\n",
    "#             print('Year is not leap year')\n",
    "#     else:\n",
    "#         print('Year is leap year')\n",
    "# else:\n",
    "#     print('Year is not leap year')\n",
    "\n",
    "\n",
    "if (year%400 == 0 or ( year%4 == 0  and  year%100 != 0)):\n",
    "#     print(\"%d is a Leap Year\" %year)\n",
    "# else:\n",
    "#     print(\"%d is Not the Leap Year\" %year)\n",
    "\n",
    "    print(\"{} is a Leap Year\".format(year))\n",
    "else:\n",
    "    print(\"{} is Not the Leap Year\".format(year))\n"
   ]
  },
  {
   "cell_type": "code",
   "execution_count": 41,
   "metadata": {},
   "outputs": [
    {
     "name": "stdout",
     "output_type": "stream",
     "text": [
      "10\t20\t30\t40\t"
     ]
    }
   ],
   "source": [
    "# Output formatting\n",
    "# print(10,20,30,40)\n",
    "# print(10,20,30,40, sep = ' ')\n",
    "\n",
    "# print(10, end = '\\t')\n",
    "# print(20, end = '\\t')\n",
    "# print(30, end = '\\t')\n",
    "# print(40, end = '\\t')\n"
   ]
  },
  {
   "cell_type": "code",
   "execution_count": 45,
   "metadata": {},
   "outputs": [
    {
     "name": "stdout",
     "output_type": "stream",
     "text": [
      "Enter 1st number: 100\n",
      "Enter 2nd number: 200\n",
      "Enter 3rd number: 30\n",
      "num2 -> 200 is greater than num1 -> 100 and num3 -> 30\n"
     ]
    }
   ],
   "source": [
    "num1 = int(input('Enter 1st number: '))\n",
    "num2 = int(input('Enter 2nd number: '))\n",
    "num3 = int(input('Enter 3rd number: '))\n",
    "if num1>num2 and num1>num3:\n",
    "    print('num1 -> {} is greater than num2 -> {} and num3 -> {}'.format(num1, num2,num3))\n",
    "    print(num1)\n",
    "    print(num2)\n",
    "    print(num3)\n",
    "elif num2>num3:\n",
    "    print('num2 -> {} is greater than num1 -> {} and num3 -> {}'.format(num2, num1,num3))\n",
    "else:\n",
    "    print('num3 -> {} is greater than num2 -> {} and num1 -> {}'.format(num3, num2,num1))"
   ]
  },
  {
   "cell_type": "code",
   "execution_count": 46,
   "metadata": {},
   "outputs": [
    {
     "name": "stdout",
     "output_type": "stream",
     "text": [
      "Enter 1st number: 100\n",
      "Enter 2nd number: 20\n",
      "Enter 3rd number: 300\n",
      "num3 -> 300 is greater than num2 -> 20 and num1 -> 100\n"
     ]
    }
   ],
   "source": [
    "num1 = int(input('Enter 1st number: '))\n",
    "num2 = int(input('Enter 2nd number: '))\n",
    "num3 = int(input('Enter 3rd number: '))\n",
    "if num1>num2 and num1>num3:\n",
    "    print(f'num1 -> {num1} is greater than num2 -> {num2} and num3 -> {num}')\n",
    "    print(num1)\n",
    "    print(num2)\n",
    "    print(num3)\n",
    "elif num2>num3:\n",
    "    print(f'num2 -> {num2} is greater than num1 -> {num1} and num3 -> {num3}')\n",
    "else:\n",
    "    print(f'num3 -> {num3} is greater than num2 -> {num2} and num1 -> {num1}')"
   ]
  },
  {
   "cell_type": "code",
   "execution_count": null,
   "metadata": {},
   "outputs": [],
   "source": [
    "# WAP to check whether a number is divisible by 5 and 11\n",
    "\n",
    "num = int(input('Enter a number '))\n",
    "\n",
    "if num%5==0:\n",
    "    if num%11==0:\n",
    "        print(f\"{num} is divisible by 5 & ll\")\n",
    "    else:\n",
    "        print(f\"{num} is divisible by 5, not ll\")\n",
    "else:\n",
    "    if num%11==0:\n",
    "        print(f\"{num} is divisible by 11, not 5\")\n",
    "    else:\n",
    "        print(f\"{num} is neither divisible by 5 nor ll\")"
   ]
  },
  {
   "cell_type": "code",
   "execution_count": null,
   "metadata": {},
   "outputs": [],
   "source": [
    "# Write a program to check whether a character is alphabet or not.\n",
    "\n",
    "char = input('Enter the character = ')\n",
    "if (ord(char) in range (65,91)) or (ord(char) in range (97,123)):\n",
    "    print(f'{char} is an alphabet')\n",
    "else:\n",
    "    print(f'{char} is not an alphabet')"
   ]
  },
  {
   "cell_type": "code",
   "execution_count": null,
   "metadata": {},
   "outputs": [],
   "source": [
    "# Write a program to check whether a number is even or odd.\n",
    "\n",
    "num = int(input('Enter a number: '))\n",
    "\n",
    "if num%2==0:\n",
    "    print(f'{num} is even')\n",
    "else:\n",
    "    print(f'{num} is odd')"
   ]
  },
  {
   "cell_type": "code",
   "execution_count": null,
   "metadata": {},
   "outputs": [],
   "source": [
    "# Write a program to input any alphabet and check whether it is vowel or consonant.\n",
    "\n",
    "vowels = ['a','e','i','o','u','A','E','I','O','U']\n",
    "\n",
    "alphabet = input('Enter the alphabet: ')\n",
    "\n",
    "if alphabet in vowels:\n",
    "    print(f'{alphabet} is a vowel')\n",
    "else:\n",
    "    print(f'{alphabet} is a consonant')"
   ]
  },
  {
   "cell_type": "code",
   "execution_count": null,
   "metadata": {},
   "outputs": [],
   "source": [
    "# Write a program to input any character and check whether it is alphabet, digit or special character.\n",
    "\n",
    "char = input('Enter the character: ')\n",
    "ord_char = ord(char)\n",
    "\n",
    "if (ord_char in range (65,91)) or (ord_char in range (97,123)):\n",
    "     print(f'{char} is an alphabet')\n",
    "        \n",
    "elif ord_char in range (48,58):\n",
    "     print(f'{char} is a digit')\n",
    "else:\n",
    "    print(f'{char} is a special character')"
   ]
  },
  {
   "cell_type": "code",
   "execution_count": null,
   "metadata": {},
   "outputs": [],
   "source": [
    "# Write a  program to check whether a character is uppercase or lowercase alphabet.\n",
    "\n",
    "char = input('Enter the character: ')\n",
    "ord_char = ord(char)\n",
    "\n",
    "if ord_char in range (65,91):\n",
    "    print(f'{char} is an uppercase alphabet')\n",
    "elif ord_char in range (97,123):\n",
    "     print(f'{char} is a lowercase alphabet')\n",
    "else:\n",
    "    print(f'{char} is not an alphabet')"
   ]
  },
  {
   "cell_type": "code",
   "execution_count": null,
   "metadata": {},
   "outputs": [],
   "source": [
    "# Write a program to input week number and print week day.\n",
    "\n",
    "#USING LIST\n",
    "\n",
    "weekday = ['Monday','Tuesday','Wednesday','Thursday','Friday','Saturday','Sunday']\n",
    "\n",
    "day_no = int(input(\"Enter week no. in between 1 & 7: \"))\n",
    "print(f'{day_no}th day is {weekday[day_no - 1]}')\n",
    "\n",
    "#USING DICT\n",
    "\n",
    "weekday = {1:'Monday',2:'Tuesday',3:'Wednesday',4:'Thursday',5:'Friday',6:'Saturday',7:'Sunday'}\n",
    "\n",
    "# day_no = int(input(\"Enter week no. in between 1 & 7: \"))\n",
    "if day_no in weekday:\n",
    "    print(f'{day_no}th day is {weekday[day_no]}')"
   ]
  },
  {
   "cell_type": "code",
   "execution_count": null,
   "metadata": {},
   "outputs": [],
   "source": [
    "# Write a program to input month number and print number of days in that month.\n",
    "\n",
    "month_no = int(input(\"Enter month number: \"))\n",
    "\n",
    "if month_no in range (1,8):\n",
    "    if month_no%2 != 0:\n",
    "        print('No. of days is 31')\n",
    "    elif month_no == 2:\n",
    "        print('No. of days is 28')\n",
    "    else:\n",
    "        print('No. of days is 30')\n",
    "elif month_no in range (8,13):\n",
    "    if month_no%2 == 0:\n",
    "        print('No. of days is 31')\n",
    "    else:\n",
    "        print('No. of days is 30')"
   ]
  },
  {
   "cell_type": "code",
   "execution_count": null,
   "metadata": {},
   "outputs": [],
   "source": [
    "# Write a program to input angles of a triangle and check whether triangle is valid or not.\n",
    "\n",
    "angle = []\n",
    "for i in range (0,3):\n",
    "    angle.append(int(input('Enter angle of triangle: ')))\n",
    "# print(angle)\n",
    "\n",
    "# # test = 0\n",
    "\n",
    "# for i in angle:\n",
    "#     if i == 0:\n",
    "#         print('Traingle is not valid')\n",
    "#         test = 1\n",
    "#         break   \n",
    "# if test==0 and sum(angle) == 180:\n",
    "#     print('Traingle is valid')\n",
    "# elif test==0:\n",
    "#     print('Traingle is not valid')\n",
    "\n",
    "if all(flag > 0 for flag in angle):\n",
    "    if sum(angle) == 180:\n",
    "        print('Traingle is valid')\n",
    "    else:\n",
    "        print('Traingle is not valid')\n",
    "else:\n",
    "    print('Traingle is not valid')"
   ]
  },
  {
   "cell_type": "code",
   "execution_count": null,
   "metadata": {},
   "outputs": [],
   "source": [
    "# Write a program to find all roots of a quadratic equation.\n",
    "\n",
    "print('For quadratic equation in form ax**2 + bx + c = 0 ')\n",
    "\n",
    "a = int(input('a : '))\n",
    "b = int(input('b : '))\n",
    "c = int(input('c : '))\n",
    "\n",
    "sqrt1 = ((-b) + ((b**2 - 4*a*c)**0.5))/(2*a) \n",
    "sqrt2 = ((-b) - ((b**2 - 4*a*c)**0.5))/(2*a) \n",
    "\n",
    "print('The square roots are {:.2f} and {:.2f}'.format(sqrt1,sqrt2))"
   ]
  }
 ],
 "metadata": {
  "kernelspec": {
   "display_name": "Python 3",
   "language": "python",
   "name": "python3"
  },
  "language_info": {
   "codemirror_mode": {
    "name": "ipython",
    "version": 3
   },
   "file_extension": ".py",
   "mimetype": "text/x-python",
   "name": "python",
   "nbconvert_exporter": "python",
   "pygments_lexer": "ipython3",
   "version": "3.7.6"
  }
 },
 "nbformat": 4,
 "nbformat_minor": 2
}
