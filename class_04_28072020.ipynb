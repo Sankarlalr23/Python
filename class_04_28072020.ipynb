{
 "cells": [
  {
   "cell_type": "code",
   "execution_count": 3,
   "metadata": {},
   "outputs": [
    {
     "name": "stdout",
     "output_type": "stream",
     "text": [
      "enter name or number10\n",
      "a is a string\n"
     ]
    }
   ],
   "source": [
    "# a=input(\"enter name or number\")\n",
    "# if type(a)==int:\n",
    "#     print(\"a is a number\")\n",
    "# else:\n",
    "#     print(\"a is a string\")\n",
    "\n",
    "# int a;"
   ]
  },
  {
   "cell_type": "code",
   "execution_count": null,
   "metadata": {},
   "outputs": [],
   "source": [
    "# Data types:-\n",
    "#     Fundamental - int,float, complex, string, None, Boolean\n",
    "#     Derived - List, Tuple, set,frozenset, dictionary, bytes bytearray, range"
   ]
  },
  {
   "cell_type": "code",
   "execution_count": 11,
   "metadata": {},
   "outputs": [
    {
     "name": "stdout",
     "output_type": "stream",
     "text": [
      "Before the modification [10, 10.2, (10+20j), 'Python', [1, 2, 3]] 4564101384\n",
      "[10, 10.2, (10+20j), 'Python', [1, 2, 3], 11111]\n",
      "After the modification [10, 10.2, (10+20j), 'Python', [1, 2, 3], 11111] 4564101384\n",
      "Before the modification This is Python class 4565206624\n",
      "tHIS IS pYTHON CLASS\n",
      "After the modification This is Python class 4565206624\n",
      "After the modification tHIS IS pYTHON CLASS 4565205256\n"
     ]
    }
   ],
   "source": [
    "# Classification of Data Types based on Mutability\n",
    "    # Mutable - List, set, dictionary, bytearray \n",
    "    # Immutable - Fundamental, Tuple, Frozenset, Bytes, range\n",
    "    \n",
    "# Mutable - Modifiable - id before the change and after the change should remain same, \n",
    "#                   - If you can modify data and make the changes available in the existing object\n",
    "\n",
    "# List\n",
    "lst = [10,10.20,10+20j, 'Python', [1,2,3]]\n",
    "# append method applicable only on list and append method adds an element at the end of the list\n",
    "print('Before the modification', lst, id(lst))\n",
    "lst = lst.append(11111)   # This method returns None\n",
    "print(lst)\n",
    "print('After the modification', lst, id(lst))\n",
    "\n",
    "# String\n",
    "s1 = 'This is Python class'\n",
    "# print(dir(str))\n",
    "# Concatenation operation combines two strings\n",
    "# s2 = ' at Learnbay'\n",
    "# print(s1+s2)\n",
    "# print(s1)\n",
    "# print(s2)\n",
    "# print('Before the modification', s1, id(s1))\n",
    "# s2 = s1.swapcase()       # This methods returns the modified string object\n",
    "# print(s2)\n",
    "# print('After the modification', s1, id(s1))\n",
    "# print('After the modification', s2, id(s2))\n",
    "\n",
    "# print('Before the modification', s1, id(s1))\n",
    "# s1 = s1.swapcase()\n",
    "# # print(s2)\n",
    "# print('After the modification', s1, id(s1))\n",
    "# print('After the modification', s2, id(s2))\n",
    "\n",
    "swapcase(s1)   # Function call\n",
    "s1.swapcase()  # Method call\n"
   ]
  },
  {
   "cell_type": "code",
   "execution_count": null,
   "metadata": {},
   "outputs": [],
   "source": [
    "# def swapcase(str):\n",
    "#     str modify\n",
    "#     return modified string"
   ]
  },
  {
   "cell_type": "code",
   "execution_count": 15,
   "metadata": {},
   "outputs": [
    {
     "name": "stdout",
     "output_type": "stream",
     "text": [
      "None\n"
     ]
    }
   ],
   "source": [
    "# def add():\n",
    "#     b = 10\n",
    "# a = add()\n",
    "# print(a)"
   ]
  },
  {
   "cell_type": "code",
   "execution_count": 13,
   "metadata": {},
   "outputs": [
    {
     "name": "stdout",
     "output_type": "stream",
     "text": [
      "This is Learnbay\n"
     ]
    }
   ],
   "source": [
    "# def add(s):\n",
    "#     return s+'Learnbay'\n",
    "# a = add('This is ')\n",
    "# print(a)"
   ]
  },
  {
   "cell_type": "markdown",
   "metadata": {},
   "source": [
    "# Integer"
   ]
  },
  {
   "cell_type": "code",
   "execution_count": 32,
   "metadata": {},
   "outputs": [
    {
     "name": "stdout",
     "output_type": "stream",
     "text": [
      "To check the type:  <class 'int'>\n",
      "10\n",
      "10\n",
      "1\n",
      "21\n",
      "4012\n",
      "64664\n",
      "10\n"
     ]
    },
    {
     "ename": "ValueError",
     "evalue": "invalid literal for int() with base 10: '10.20'",
     "output_type": "error",
     "traceback": [
      "\u001b[0;31m---------------------------------------------------------------------------\u001b[0m",
      "\u001b[0;31mValueError\u001b[0m                                Traceback (most recent call last)",
      "\u001b[0;32m<ipython-input-32-8a98f5de90d1>\u001b[0m in \u001b[0;36m<module>\u001b[0;34m\u001b[0m\n\u001b[1;32m     49\u001b[0m \u001b[0;34m\u001b[0m\u001b[0m\n\u001b[1;32m     50\u001b[0m \u001b[0;34m\u001b[0m\u001b[0m\n\u001b[0;32m---> 51\u001b[0;31m \u001b[0mprint\u001b[0m\u001b[0;34m(\u001b[0m\u001b[0mint\u001b[0m\u001b[0;34m(\u001b[0m\u001b[0;34m'10.20'\u001b[0m\u001b[0;34m)\u001b[0m\u001b[0;34m)\u001b[0m\u001b[0;34m\u001b[0m\u001b[0;34m\u001b[0m\u001b[0m\n\u001b[0m\u001b[1;32m     52\u001b[0m \u001b[0mprint\u001b[0m\u001b[0;34m(\u001b[0m\u001b[0mint\u001b[0m\u001b[0;34m(\u001b[0m\u001b[0;34m'True'\u001b[0m\u001b[0;34m)\u001b[0m\u001b[0;34m)\u001b[0m\u001b[0;34m\u001b[0m\u001b[0;34m\u001b[0m\u001b[0m\n\u001b[1;32m     53\u001b[0m \u001b[0mprint\u001b[0m\u001b[0;34m(\u001b[0m\u001b[0mint\u001b[0m\u001b[0;34m(\u001b[0m\u001b[0;34m'0b10101'\u001b[0m\u001b[0;34m)\u001b[0m\u001b[0;34m)\u001b[0m\u001b[0;34m\u001b[0m\u001b[0;34m\u001b[0m\u001b[0m\n",
      "\u001b[0;31mValueError\u001b[0m: invalid literal for int() with base 10: '10.20'"
     ]
    }
   ],
   "source": [
    "# Any real number without decimal point, 10, 0, -10\n",
    "a = 10\n",
    "print('To check the type: ', type(a))\n",
    "# In Python we don't have the concept of long or short, so everything is integer\n",
    "# Memory allocation is automatic, so how much memory will be require by every int object, depends upon the number\n",
    "# import sys\n",
    "# a = 10\n",
    "# print('Checking the size of small integer: ', sys.getsizeof(a), type(a))\n",
    "# b = 1000000000000000000000000000000000000000000000000000000000000000000\n",
    "# print('Checking the size of large integer: ', sys.getsizeof(b), type(b))\n",
    "# print(dir(sys))\n",
    "\n",
    "# Representation of Integer value in different format\n",
    "# Binary - Allowed digits - 0 & 1, prefix required - 0b or 0B, to convert from any value to binary - bin(x) - where x can be decimal, octal, binary, hexadecimal anything\n",
    "# Octal - Allowed digits - 0 to 7, prefix required - 0o or 0O, to convert from any value to octal - oct(x) - where x can be decimal, octal, binary, hexadecimal anything\n",
    "# Hexadecimal - Allowed digits - 0 to 9 and a/A to f/F, prefix required - 0x or 0X, to convert from any value to hexadecimal - hex(x) - where x can be decimal, octal, binary, hexadecimal anything\n",
    "# decimal - Allowed digits - 0 to 9, prefix required - No, to convert from any valur to decimal - int(x) - where x can be decimal, octal, binary, hexadecimal anything\n",
    "\n",
    "\n",
    "# num = 987654\n",
    "# # To get binary equivalent\n",
    "# bin_num = bin(num)\n",
    "# print(f'Binary equivalent of {num} is {bin_num}')\n",
    "# # To get Octal equivalent\n",
    "# oct_num = oct(num)\n",
    "print(f'Octal equivalent of {num} is {oct_num}')\n",
    "# # To get Hexadecimal equivalent\n",
    "# hex_num = hex(num)\n",
    "# print(f'Hexadecimal equivalent of {num} is {hex_num}')\n",
    "\n",
    "# my_bin_num = 0b11110001001000000110\n",
    "# print('Decimal Equivalent of 0b11110001001000000110',int(my_bin_num))\n",
    "# print('Decimal Equivalent of 0b11110001001000000110',my_bin_num)\n",
    "# print(f'Hexadecimal equivalent of {my_bin_num} is {hex(my_bin_num)}')\n",
    "\n",
    "\n",
    "# Note:- only Integer values are represented in binary, octal or hexadecimal\n",
    "\n",
    "# To type cast the number to int value - int()\n",
    "# What al values we can typecast into int\n",
    "# print(int(10))\n",
    "# print(int(10.20))\n",
    "# print(int(True))\n",
    "# print(int(0b10101))\n",
    "# print(int(0o7654))\n",
    "# print(int(0xfc98))\n",
    "# print(int('10'))\n",
    "\n",
    "\n",
    "\n",
    "# print(int('10.20'))\n",
    "# print(int('True'))\n",
    "# print(int('0b10101'))\n",
    "# print(int('0o7654'))\n",
    "# print(int('0xfc98'))\n",
    "# print(int(10+20j))\n",
    "# print(int('A'))\n"
   ]
  },
  {
   "cell_type": "markdown",
   "metadata": {},
   "source": [
    "# Float"
   ]
  },
  {
   "cell_type": "code",
   "execution_count": 34,
   "metadata": {},
   "outputs": [
    {
     "name": "stdout",
     "output_type": "stream",
     "text": [
      "10.0\n",
      "10.2\n",
      "1.0\n",
      "21.0\n",
      "4012.0\n",
      "64664.0\n",
      "10.0\n",
      "10.2\n"
     ]
    }
   ],
   "source": [
    "# Any real number with decimal point is a floa. 10.20, 0.00001, -10.20\n",
    "# You can not represent float value in binary, octal or hexadecimal format. only representable in Decimal\n",
    "# We don't have the concept of double in Python\n",
    "\n",
    "# To type cast the number to float value - float()\n",
    "# What all values we can typecast into float\n",
    "print(float(10))\n",
    "print(float(10.20))\n",
    "print(float(True))\n",
    "print(float(0b10101))\n",
    "print(float(0o7654))\n",
    "print(float(0xfc98))\n",
    "print(float('10'))\n",
    "print(float('10.20'))\n",
    "\n",
    "\n",
    "\n",
    "# print(float('True'))\n",
    "# print(float('0b10101'))\n",
    "# print(float('0o7654'))\n",
    "# print(float('0xfc98'))\n",
    "# print(float(10+20j))\n",
    "# print(float('A'))\n"
   ]
  },
  {
   "cell_type": "markdown",
   "metadata": {},
   "source": [
    "# Complex "
   ]
  },
  {
   "cell_type": "code",
   "execution_count": 39,
   "metadata": {},
   "outputs": [
    {
     "name": "stdout",
     "output_type": "stream",
     "text": [
      "Real part:  10.0\n",
      "Real part:  20.0\n",
      "(10+0j)\n",
      "(10.2+0j)\n",
      "(1+0j)\n",
      "(21+0j)\n",
      "(4012+0j)\n",
      "(64664+0j)\n",
      "(10+0j)\n",
      "(10.2+0j)\n",
      "(10+20j)\n"
     ]
    },
    {
     "ename": "TypeError",
     "evalue": "complex() second arg can't be a string",
     "output_type": "error",
     "traceback": [
      "\u001b[0;31m---------------------------------------------------------------------------\u001b[0m",
      "\u001b[0;31mTypeError\u001b[0m                                 Traceback (most recent call last)",
      "\u001b[0;32m<ipython-input-39-c6d8b03b03fa>\u001b[0m in \u001b[0;36m<module>\u001b[0;34m\u001b[0m\n\u001b[1;32m     32\u001b[0m \u001b[0;34m\u001b[0m\u001b[0m\n\u001b[1;32m     33\u001b[0m \u001b[0mprint\u001b[0m\u001b[0;34m(\u001b[0m\u001b[0mcomplex\u001b[0m\u001b[0;34m(\u001b[0m\u001b[0;36m10\u001b[0m\u001b[0;34m,\u001b[0m\u001b[0;36m20\u001b[0m\u001b[0;34m)\u001b[0m\u001b[0;34m)\u001b[0m\u001b[0;34m\u001b[0m\u001b[0;34m\u001b[0m\u001b[0m\n\u001b[0;32m---> 34\u001b[0;31m \u001b[0mprint\u001b[0m\u001b[0;34m(\u001b[0m\u001b[0mcomplex\u001b[0m\u001b[0;34m(\u001b[0m\u001b[0;36m10\u001b[0m\u001b[0;34m,\u001b[0m\u001b[0;34m'20'\u001b[0m\u001b[0;34m)\u001b[0m\u001b[0;34m)\u001b[0m\u001b[0;34m\u001b[0m\u001b[0;34m\u001b[0m\u001b[0m\n\u001b[0m",
      "\u001b[0;31mTypeError\u001b[0m: complex() second arg can't be a string"
     ]
    }
   ],
   "source": [
    "# Any number written in a + bj format, a is real part and b is imaginary part and j is imaginary numner - square root of -1\n",
    "com_num = 10+20j\n",
    "print('Real part: ', com_num.real)\n",
    "print('Real part: ', com_num.imag)\n",
    "\n",
    "# help(com_num)\n",
    "\n",
    "# To type cast the number to complex value - complex(real), complex(real, imag)\n",
    "# What all values we can typecast into complex\n",
    "print(complex(10))\n",
    "print(complex(10.20))\n",
    "print(complex(True))\n",
    "print(complex(0b10101))\n",
    "print(complex(0o7654))\n",
    "print(complex(0xfc98))\n",
    "print(complex('10'))\n",
    "print(complex('10.20'))\n",
    "\n",
    "\n",
    "\n",
    "# print(float('True'))\n",
    "# print(float('0b10101'))\n",
    "# print(float('0o7654'))\n",
    "# print(float('0xfc98'))\n",
    "# print(float(10+20j))\n",
    "# print(float('A'))\n",
    "\n",
    "\n",
    "# With two arguments\n",
    "# print(complex('10', 20))\n",
    "# print(complex('10.20', 100))\n",
    "\n",
    "print(complex(10,20))\n",
    "print(complex(10,'20'))"
   ]
  },
  {
   "cell_type": "markdown",
   "metadata": {},
   "source": [
    "# Boolean"
   ]
  },
  {
   "cell_type": "code",
   "execution_count": 52,
   "metadata": {},
   "outputs": [
    {
     "name": "stdout",
     "output_type": "stream",
     "text": [
      "2\n"
     ]
    }
   ],
   "source": [
    "# Boolean - True, False\n",
    "# Boolean to int - True -> 1, False -> 0\n",
    "# Boolean to float - True -> 1.0, False -> 0.0\n",
    "# Boolean to Complex - True -> 1.0+0j, False -> 0.0+0j\n",
    "\n",
    "# int to boolean 0 is False rest all is True\n",
    "# float to boolean 0.0 is False rest all is True\n",
    "# complex to boolean 0.0+0.0j is False rest all is True\n",
    "# None -> False\n",
    "# Strings to Boolean - '' is False and Rest is True\n",
    "# List to Boolean - [] is False and Rest is True\n",
    "# Tuple to Boolean - () is False and Rest is True\n",
    "# set to Boolean - set() is False and Rest is True\n",
    "# Dictionary to Boolean - {} is False and Rest is True\n",
    "\n",
    "# to check a value or data is True or False - bool\n",
    "# print(bool(0))\n",
    "# print(bool(0.0))\n",
    "# print(bool(0.0+0j))\n",
    "# print(bool(-10))\n",
    "# print(bool(0.000000001))\n",
    "# print(bool(0.000000001j))\n",
    "# print(bool(''))\n",
    "# print(bool(' '))\n",
    "# print(bool([]))\n",
    "# print(bool([0]))\n",
    "\n",
    "print(True+True)\n"
   ]
  },
  {
   "cell_type": "code",
   "execution_count": 49,
   "metadata": {},
   "outputs": [
    {
     "name": "stdout",
     "output_type": "stream",
     "text": [
      "Enter 1st Number: 10\n",
      "Enter 2nd Number: 20\n",
      "-10\n"
     ]
    }
   ],
   "source": [
    "a = int(input('Enter 1st Number: '))\n",
    "b = int(input('Enter 2nd Number: '))\n",
    "# print(help('if')) \n",
    "if True:\n",
    "    print(a-b)\n",
    "    \n"
   ]
  },
  {
   "cell_type": "markdown",
   "metadata": {},
   "source": [
    "# None"
   ]
  },
  {
   "cell_type": "code",
   "execution_count": 63,
   "metadata": {},
   "outputs": [
    {
     "name": "stdout",
     "output_type": "stream",
     "text": [
      "[None, None, None, None, None, None, None, None, None, None]\n",
      "[None, None, 100, None, 10, None, 111, None, None, None]\n",
      "221\n"
     ]
    }
   ],
   "source": [
    "# None - A value which represent nothing\n",
    "# None is used to represent mising value\n",
    "x = None\n",
    "lst = [None] * 10\n",
    "print(lst)\n",
    "lst[2], lst[4], lst[6] = 100,10,111\n",
    "print(lst)\n",
    "total = 0\n",
    "for i in lst:\n",
    "    if i == None:\n",
    "        continue\n",
    "    else:\n",
    "        total += i\n",
    "print(total)\n",
    "\n",
    "# a = 'none'"
   ]
  },
  {
   "cell_type": "code",
   "execution_count": 75,
   "metadata": {},
   "outputs": [
    {
     "name": "stdout",
     "output_type": "stream",
     "text": [
      "P\n",
      "P\n",
      "P\n",
      "n\n",
      "n\n",
      "n\n",
      "h\n",
      "h\n",
      "6\n",
      "11987\n",
      "17\n"
     ]
    }
   ],
   "source": [
    "# String - String is a group of characters kept in quotation - '...', \"...\", '''...''', \"\"\"...\"\"\"\n",
    "# Properties of string -\n",
    "    # String is a seq - It is an ordered collection of elements\n",
    "    # Elements of string are arranged in increasing order of +ve index from Left to Right, always starts from 0\n",
    "    #  and decreasing order of -ve index from Right to Left, always sterts from -1\n",
    "    \n",
    "    \n",
    "a = 'Python'\n",
    "# 0   1   2   3   4   5\n",
    "# ---------------------->\n",
    "# P   y   t   h   o   n\n",
    "# <----------------------\n",
    "# -6 -5  -4  -3 -2   -1\n",
    "\n",
    "# Indexing - allows us to access one element at atime - Square bracket notation\n",
    "# Accessing first character\n",
    "print(a[0])\n",
    "print(a[-6])\n",
    "print(a[-len(a)])\n",
    "\n",
    "# Accessing last character\n",
    "print(a[-1])\n",
    "print(a[5])\n",
    "print(a[len(a)-1])\n",
    "\n",
    "# Access character h\n",
    "print(a[3])\n",
    "print(a[-3])\n",
    "\n",
    "# len() - is a funcion which returns the total number of charcters in the seq\n",
    "print(len(a))\n",
    "\n",
    "\n",
    "n_s  = str(11987)\n",
    "print(n_s)\n",
    "# Accessing last element\n",
    "print(int(n_s[-1])+10)\n",
    "\n"
   ]
  },
  {
   "cell_type": "code",
   "execution_count": null,
   "metadata": {},
   "outputs": [],
   "source": [
    "# \n",
    "['abc@gmail.com', 'abc@hotmail.com','abc@yahoo.com']\n",
    "email = 'abc@gmail.com'"
   ]
  },
  {
   "cell_type": "code",
   "execution_count": null,
   "metadata": {},
   "outputs": [],
   "source": []
  },
  {
   "cell_type": "code",
   "execution_count": 51,
   "metadata": {},
   "outputs": [
    {
     "name": "stdout",
     "output_type": "stream",
     "text": [
      "[False False  True  True False  True]\n"
     ]
    }
   ],
   "source": [
    "import numpy as np\n",
    "arr1 = np.array([10,2,30,300,9.5, 100])\n",
    "print(arr1>10)"
   ]
  },
  {
   "cell_type": "code",
   "execution_count": 4,
   "metadata": {},
   "outputs": [
    {
     "name": "stdout",
     "output_type": "stream",
     "text": [
      "Type help() for interactive help, or help(object) for help about object.\n"
     ]
    }
   ],
   "source": []
  },
  {
   "cell_type": "code",
   "execution_count": 6,
   "metadata": {},
   "outputs": [
    {
     "name": "stdout",
     "output_type": "stream",
     "text": [
      "['__call__', '__class__', '__delattr__', '__dict__', '__dir__', '__doc__', '__eq__', '__format__', '__ge__', '__getattribute__', '__gt__', '__hash__', '__init__', '__init_subclass__', '__le__', '__lt__', '__module__', '__ne__', '__new__', '__reduce__', '__reduce_ex__', '__repr__', '__setattr__', '__sizeof__', '__str__', '__subclasshook__', '__weakref__']\n"
     ]
    }
   ],
   "source": []
  },
  {
   "cell_type": "code",
   "execution_count": 11,
   "metadata": {},
   "outputs": [
    {
     "name": "stdout",
     "output_type": "stream",
     "text": [
      "No Python documentation found for 'else if'.\n",
      "Use help() to get the interactive help utility.\n",
      "Use help(str) for help on the str class.\n",
      "\n",
      "None\n"
     ]
    }
   ],
   "source": []
  },
  {
   "cell_type": "code",
   "execution_count": null,
   "metadata": {},
   "outputs": [],
   "source": []
  },
  {
   "cell_type": "code",
   "execution_count": null,
   "metadata": {},
   "outputs": [],
   "source": []
  },
  {
   "cell_type": "code",
   "execution_count": null,
   "metadata": {},
   "outputs": [],
   "source": []
  }
 ],
 "metadata": {
  "kernelspec": {
   "display_name": "Python 3",
   "language": "python",
   "name": "python3"
  },
  "language_info": {
   "codemirror_mode": {
    "name": "ipython",
    "version": 3
   },
   "file_extension": ".py",
   "mimetype": "text/x-python",
   "name": "python",
   "nbconvert_exporter": "python",
   "pygments_lexer": "ipython3",
   "version": "3.7.6"
  }
 },
 "nbformat": 4,
 "nbformat_minor": 2
}
