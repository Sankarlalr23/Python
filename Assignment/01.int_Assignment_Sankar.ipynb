{
 "cells": [
  {
   "cell_type": "code",
   "execution_count": 25,
   "metadata": {
    "colab": {},
    "colab_type": "code",
    "id": "8A5Jw5NR1iEI"
   },
   "outputs": [
    {
     "name": "stdout",
     "output_type": "stream",
     "text": [
      "True\n",
      "140735672328880\n"
     ]
    }
   ],
   "source": [
    "#Declare an int value and store it in a variable. \n",
    "a = 10\n",
    "\n",
    "#Check the type and print the id of the same.\n",
    "print(type(a) is int)\n",
    "print(id(a))"
   ]
  },
  {
   "cell_type": "code",
   "execution_count": 14,
   "metadata": {
    "colab": {},
    "colab_type": "code",
    "id": "0YU8LFTn1rAX"
   },
   "outputs": [
    {
     "name": "stdout",
     "output_type": "stream",
     "text": [
      "140735672334960 140735672334960 True\n",
      "2597872336464 2597872335952 False\n",
      "\n"
     ]
    },
    {
     "data": {
      "text/plain": [
       "'object_reusability concept only for int(-5 to 256), String(A to Z, a to z, 0 to 9), None & Boolean'"
      ]
     },
     "execution_count": 14,
     "metadata": {},
     "output_type": "execute_result"
    }
   ],
   "source": [
    "#Take one int value between 0 - 256.\n",
    "#Assign it to two different variables.\n",
    "#Check the id of both the variables. It should come same. Check why?\n",
    "\n",
    "a1 = 200\n",
    "b1 = 200\n",
    "print(id(a1), id(b1), a1 is b1)    #object_reusability\n",
    "\n",
    "#Take one int value                                                either less than -5 or greater than 256.\n",
    "#Assign it to two different variables.\n",
    "#Check the id of both the variables. It should come different.Check why?\n",
    "\n",
    "a2 = 257\n",
    "b2 = 257\n",
    "\n",
    "print(id(a2), id(b2), a2 is b2)    \n",
    "print()\n",
    "'''object_reusability concept only for int(-5 to 256), String(A to Z, a to z, 0 to 9), None & Boolean'''"
   ]
  },
  {
   "cell_type": "code",
   "execution_count": 15,
   "metadata": {
    "colab": {},
    "colab_type": "code",
    "id": "YzEIG0ZZ1tSK"
   },
   "outputs": [
    {
     "name": "stdout",
     "output_type": "stream",
     "text": [
      "sum of 15, 10 = 25\n",
      "differce between 15, 10 = 5\n",
      "product of 15, 10 = 150\n",
      "value after dividing 15 with 10 = 1.5\n",
      "remainder after dividing 15 with 10 = 5\n",
      "quotient after dividing 15 with 10 = 1\n",
      "result of 15 to the power of 10 = 576650390625\n"
     ]
    }
   ],
   "source": [
    "#Arithmatic Operations on integers\n",
    "#Take two different intger values.\n",
    "#Store them in two different variables.\n",
    "#Do below operations on them:-\n",
    "    #Find sum of both numbers\n",
    "    #Find differce between them\n",
    "    #Find the product of both numbers.\n",
    "    #Find value after dividing first num with second number\n",
    "    #Find the remainder after dividing first number with second number\n",
    "    #Find the quotient after dividing first number with second number\n",
    "    #Find the result of first num to the power of second number.\n",
    "    \n",
    "a3 = 15\n",
    "b3 = 10\n",
    "\n",
    "# Type was printed for my understanding purpose, later chnage it to comment.\n",
    "\n",
    "print(f'sum of {a3}, {b3} =', a3+b3) #type(a3+b3))\n",
    "print(f'differce between {a3}, {b3} =', a3-b3) #type(a3-b3))\n",
    "print(f'product of {a3}, {b3} =', a3*b3) #type(a3*b3))\n",
    "print(f'value after dividing {a3} with {b3} =', a3/b3) #type(a3/b3))\n",
    "print(f'remainder after dividing {a3} with {b3} =', a3%b3) #type(a3%b3))\n",
    "print(f'quotient after dividing {a3} with {b3} =', a3//b3) #type(a3//b3))\n",
    "print(f'result of {a3} to the power of {b3} =', a3**b3) #type(a3**b3))"
   ]
  },
  {
   "cell_type": "code",
   "execution_count": 16,
   "metadata": {
    "colab": {},
    "colab_type": "code",
    "id": "GGM7CdzA1wGn"
   },
   "outputs": [
    {
     "name": "stdout",
     "output_type": "stream",
     "text": [
      "True\n",
      "False\n",
      "True\n",
      "False\n"
     ]
    }
   ],
   "source": [
    "#Comparison Operators on integers\n",
    "#Take two different intger values.\n",
    "#Store them in two different variables.\n",
    "#Do below operations on them:-\n",
    "    #Compare se two numbers with below operator:-\n",
    "        #Greater than, '>'\n",
    "        #Smaller than, '<'\n",
    "        #Greater than or equal to, '>='\n",
    "        #Less than or equal to, '<='\n",
    "#Observe their output(return type should be boolean)\n",
    "\n",
    "a4 = 15\n",
    "b4 = 10\n",
    "\n",
    "print(a4 > b4)\n",
    "print(a4 < b4)\n",
    "print(a4 >= b4)\n",
    "print(a4 <= b4)"
   ]
  },
  {
   "cell_type": "code",
   "execution_count": 17,
   "metadata": {
    "colab": {},
    "colab_type": "code",
    "id": "9x904sUE1y9t"
   },
   "outputs": [
    {
     "name": "stdout",
     "output_type": "stream",
     "text": [
      "False\n",
      "True\n"
     ]
    }
   ],
   "source": [
    "#Equality Operator\n",
    "#Take two different intger values.\n",
    "#Store them in two different variables.\n",
    "#Equuate them using equality operator (==, !=)\n",
    "#Observe the output(return type should be boolean)\n",
    "\n",
    "a5 = 15\n",
    "b5 = 10\n",
    "\n",
    "print(a5 == b5)\n",
    "print(a5 != b5)"
   ]
  },
  {
   "cell_type": "code",
   "execution_count": 18,
   "metadata": {
    "colab": {},
    "colab_type": "code",
    "id": "JmQFHUwc11S-"
   },
   "outputs": [
    {
     "name": "stdout",
     "output_type": "stream",
     "text": [
      "20\n",
      "0\n",
      "0\n",
      "0\n",
      "10\n",
      "20\n",
      "20\n",
      "0\n",
      "False\n",
      "True\n"
     ]
    }
   ],
   "source": [
    "#Logical operators\n",
    "#Observe the output of below code\n",
    "#Cross check the output manually\n",
    "\n",
    "'''and looks for False'''\n",
    "print(10 and 20)       #(True and True) = Second True--------------------------------------->Output is 20\n",
    "print(0 and 20)        #(False and True) = False----------------------------------------->Output is 0\n",
    "print(20 and 0)        #(True and False) = False----------------------------------------->Output is 0\n",
    "print(0 and 0)         #(False and False) = First False----------------------------------------->Output is 0\n",
    "\n",
    "# print(0 and None)\n",
    "# print(None and 0)\n",
    "\n",
    "'''or looks for True'''\n",
    "print(10 or 20)        #(True or True) = First True----------------------------------------->Output is 10\n",
    "print(0 or 20)         #(False or True) = True----------------------------------------->Output is 20\n",
    "print(20 or 0)         #(True or False) = True----------------------------------------->Output is 20\n",
    "print(0 or 0)          #(False or False) = Second False----------------------------------------->Output is 0\n",
    "\n",
    "# print(0 or None)\n",
    "# print(None or 0)\n",
    "\n",
    "print(not 10)          #not True = False----------------------------------------->Output is False\n",
    "print(not 0)           #not False = True----------------------------------------->Output is True"
   ]
  },
  {
   "cell_type": "code",
   "execution_count": 19,
   "metadata": {
    "colab": {},
    "colab_type": "code",
    "id": "-0tvoulX14Hi"
   },
   "outputs": [
    {
     "name": "stdout",
     "output_type": "stream",
     "text": [
      "0\n",
      "30\n",
      "30\n",
      "-11\n",
      "40\n",
      "2\n"
     ]
    }
   ],
   "source": [
    "#Bitwise Operators\n",
    "#Do below operations on the values provided below:-\n",
    "    #Bitwise and(&) -----------------------------------------> 10, 20   -------> Output is 0\n",
    "    #Bitwise or(|)  -----------------------------------------> 10, 20   -------> Output is 30\n",
    "    #Bitwise(^)     -----------------------------------------> 10, 20   -------> Output is 30\n",
    "    #Bitwise negation(~) ------------------------------------> 10       -------> Output is -11\n",
    "    #Bitwise left shift  ------------------------------------> 10,2     -------> Output is 40\n",
    "    #Bitwise right shift ------------------------------------> 10,2     -------> Output is 2\n",
    "#Cross check the output manually\n",
    "\n",
    "# print(bin(10))\n",
    "# print(bin(20))\n",
    "\n",
    "print(10&20)    #int(0b00000))          # 01010 & 10100 = 00000\n",
    "print(10|20)    #int(0b11110))          # 01010 | 10100 = 11110\n",
    "print(10^20)    #int(0b11110))          # 01010 ^ 10100 = 11110          both bits same, result 0\n",
    "print(~10)                              # ~(10) = -(10+1) = -11\n",
    "print(10<<2)    #int(0b0101000))        # 01010 << 2 = 0101000\n",
    "print(10>>2)    #int(0b0000010))        # 01010 >> 2 = 0000010"
   ]
  },
  {
   "cell_type": "code",
   "execution_count": 20,
   "metadata": {
    "colab": {},
    "colab_type": "code",
    "id": "YCcx-Qx016hg"
   },
   "outputs": [
    {
     "name": "stdout",
     "output_type": "stream",
     "text": [
      "True\n",
      "False\n",
      "False\n",
      "True\n"
     ]
    }
   ],
   "source": [
    "#What is the output of expression inside print statement. Cross check before running the program.\n",
    "a = 10\n",
    "b = 10\n",
    "print(a is b)          #True or False?\n",
    "# True   - same id, object reusability\n",
    "\n",
    "print(a is not b)      #True or False?\n",
    "# False - same id\n",
    "\n",
    "a = 1000\n",
    "b = 1000\n",
    "print(a is b)          #True or False?\n",
    "# False - id not same, object reusability in range (-5,256) only\n",
    "\n",
    "print(a is not b)      #True or False?\n",
    "# True - id not same, object reusability in range (-5,256) only"
   ]
  },
  {
   "cell_type": "code",
   "execution_count": 21,
   "metadata": {
    "colab": {},
    "colab_type": "code",
    "id": "Un2To3XN1_Il"
   },
   "outputs": [
    {
     "name": "stdout",
     "output_type": "stream",
     "text": [
      "20\n"
     ]
    }
   ],
   "source": [
    "#What is the output of expression inside print statement. Cross check before running the program.\n",
    "print(10+(10*32)//2**5&20+(~(-10))<<2)\n",
    "\n",
    "# 10+(10*32)//2**5&20+(~(-10))<<2   #https://docs.python.org/3/reference/expressions.html#operator-precedence\n",
    "# print(10+320//2**5&20+9<<2)       #Parantheses\n",
    "# print(10+320//32&20+9<<2)         #Exponential\n",
    "# print(10+10&20+9<<2)              #Division\n",
    "# print(20&29<<2)                   #Addition\n",
    "# print(20&116)      #print(29<<2)  #Shifts\n",
    "# print(20)                         #bitwise and"
   ]
  },
  {
   "cell_type": "code",
   "execution_count": 22,
   "metadata": {
    "colab": {},
    "colab_type": "code",
    "id": "kGRb5RMd1_1I"
   },
   "outputs": [
    {
     "name": "stdout",
     "output_type": "stream",
     "text": [
      "True\n",
      "True\n",
      "True\n",
      "True\n",
      "True\n",
      "True\n"
     ]
    }
   ],
   "source": [
    "#Membership operation\n",
    "#in, not in are two membership operators and it returns boolean value\n",
    "\n",
    "print('2' in 'Python2.7.8')              #True  - 2 in string\n",
    "print(10 in [10,10.20,10+20j,'Python'])  #True  - 10 in list\n",
    "print(10 in (10,10.20,10+20j,'Python'))  #True  - 10 in tuple\n",
    "print(2 in {1,2,3})                      #True  - 2 in set\n",
    "print(3 in {1:100, 2:200, 3:300})        #True  - 3 is a key in dictionary\n",
    "print(10 in range(20))                   #True  - 10 is present in the range(0,20)"
   ]
  },
  {
   "cell_type": "code",
   "execution_count": 23,
   "metadata": {
    "colab": {},
    "colab_type": "code",
    "id": "Es7iSvL92B9W"
   },
   "outputs": [
    {
     "name": "stdout",
     "output_type": "stream",
     "text": [
      "0b10011010010100\n",
      "0o23224\n",
      "0x2694\n"
     ]
    }
   ],
   "source": [
    "#An integer can be represented in binary, octal or hexadecimal form.\n",
    "#Declare one binary, one octal and one hexadecimal value and store them in three different variables.\n",
    "\n",
    "a = 0b01010\n",
    "b = 0o7651\n",
    "c = 0x9851\n",
    "\n",
    "#Convert 9876 to its binary, octal and hexadecimal equivalent and print their corresponding value.\n",
    "print(bin(9876))\n",
    "print(oct(9876))\n",
    "print(hex(9876))"
   ]
  },
  {
   "cell_type": "code",
   "execution_count": 24,
   "metadata": {
    "colab": {},
    "colab_type": "code",
    "id": "Hm0r03lH2E0i"
   },
   "outputs": [
    {
     "name": "stdout",
     "output_type": "stream",
     "text": [
      "80\n",
      "3870\n",
      "64222\n",
      "0b1010000\n",
      "0o7436\n",
      "0xfade\n",
      "0b1010000\n",
      "0b1111101011011110\n",
      "0o175336\n",
      "0o7436\n",
      "0x50\n",
      "0xfade\n"
     ]
    }
   ],
   "source": [
    "#What will be the outut of following:-\n",
    "a = 0b1010000                    \n",
    "print(a)        #integer value of a\n",
    "\n",
    "b = 0o7436                       \n",
    "print(b)        #integer value of b\n",
    "\n",
    "c = 0xfade                      \n",
    "print(c)        #integer value of c\n",
    "\n",
    "print(bin(80))                  #binary value of integer 80\n",
    "\n",
    "print(oct(3870))                #octal value of integer 3870\n",
    "\n",
    "print(hex(64222))               #hexaadecimal value of integer 64222\n",
    "\n",
    "print(bin(0b1010000))           #binary value of binary number 0b1010000\n",
    "\n",
    "print(bin(0xfade))              #binary value of hexadecimal number 0xfade\n",
    "  \n",
    "print(oct(0xfade))              #octaal value of hexadecimal number 0xfade\n",
    "\n",
    "print(oct(0o7436))              #octaal value of Octal number 0o7436\n",
    "\n",
    "print(hex(0b1010000))           #hexaadecimal value of binary number 0b1010000\n",
    "\n",
    "print(hex(0xfade))              #hexaadecimal value of hexadecimal number 0xfade"
   ]
  },
  {
   "cell_type": "code",
   "execution_count": null,
   "metadata": {},
   "outputs": [],
   "source": []
  },
  {
   "cell_type": "markdown",
   "metadata": {},
   "source": [
    "## Completed"
   ]
  },
  {
   "cell_type": "code",
   "execution_count": null,
   "metadata": {},
   "outputs": [],
   "source": []
  }
 ],
 "metadata": {
  "colab": {
   "name": "int_assignment.ipynb",
   "provenance": []
  },
  "kernelspec": {
   "display_name": "Python 3",
   "language": "python",
   "name": "python3"
  },
  "language_info": {
   "codemirror_mode": {
    "name": "ipython",
    "version": 3
   },
   "file_extension": ".py",
   "mimetype": "text/x-python",
   "name": "python",
   "nbconvert_exporter": "python",
   "pygments_lexer": "ipython3",
   "version": "3.7.6"
  }
 },
 "nbformat": 4,
 "nbformat_minor": 1
}
