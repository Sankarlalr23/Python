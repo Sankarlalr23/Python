{
 "cells": [
  {
   "cell_type": "code",
   "execution_count": 1,
   "metadata": {
    "colab": {},
    "colab_type": "code",
    "id": "dlrMB-Qy2taV"
   },
   "outputs": [
    {
     "name": "stdout",
     "output_type": "stream",
     "text": [
      "True\n",
      "3157230348656\n"
     ]
    }
   ],
   "source": [
    "#Declare a float value and store it in a variable. \n",
    "\n",
    "a = 10.01\n",
    "\n",
    "#Check the type and print the id of the same.\n",
    "\n",
    "print(type(a) is float)\n",
    "print(id(a))\n"
   ]
  },
  {
   "cell_type": "code",
   "execution_count": 13,
   "metadata": {
    "colab": {},
    "colab_type": "code",
    "id": "IL4fVDHg2wbI"
   },
   "outputs": [
    {
     "name": "stdout",
     "output_type": "stream",
     "text": [
      "15.75\n",
      "5.3500000000000005\n",
      "54.86000000000001\n",
      "2.0288461538461537\n",
      "0.15000000000000036\n",
      "2.0\n",
      "209369.19830611025\n"
     ]
    }
   ],
   "source": [
    "#Arithmatic Operations on float\n",
    "#Take two different float values.\n",
    "#Store them in two different variables.\n",
    "\n",
    "#Do below operations on them:-\n",
    "    #Find sum of both numbers\n",
    "\n",
    "    #Find differce between them\n",
    "    #Find the product of both numbers.\n",
    "\n",
    "    #Find value after dividing first num with second number\n",
    "\n",
    "    #Find the remainder after dividing first number with second number\n",
    "\n",
    "    #Find the quotient after dividing first number with second number\n",
    "\n",
    "    #Find the result of first num to the power of second number.\n",
    "    \n",
    "a = 10.55\n",
    "b = 5.20\n",
    "\n",
    "print(a+b)\n",
    "print(a-b)\n",
    "print(a*b)\n",
    "print(a/b)\n",
    "print(a%b)\n",
    "print(a//b)\n",
    "print(a**b)"
   ]
  },
  {
   "cell_type": "code",
   "execution_count": 14,
   "metadata": {
    "colab": {},
    "colab_type": "code",
    "id": "atCFaH6c2492"
   },
   "outputs": [
    {
     "name": "stdout",
     "output_type": "stream",
     "text": [
      "True\n",
      "False\n",
      "True\n",
      "False\n"
     ]
    }
   ],
   "source": [
    "#Comparison Operators on float\n",
    "#Take two different float values.\n",
    "#Store them in two different variables.\n",
    "\n",
    "#Do below operations on them:-\n",
    "    #Compare these two numbers with below operator:-\n",
    "        #Greater than, '>'\n",
    "\n",
    "        #Smaller than, '<'\n",
    "\n",
    "        #Greater than or equal to, '>='\n",
    "\n",
    "        #Less than or equal to, '<='\n",
    "\n",
    "#Observe their output(return type should be boolean)\n",
    "\n",
    "a = 10.55\n",
    "b = 5.20\n",
    "\n",
    "print(a>b)\n",
    "print(a<b)\n",
    "print(a>=b)\n",
    "print(a<=b)\n",
    "\n"
   ]
  },
  {
   "cell_type": "code",
   "execution_count": 15,
   "metadata": {
    "colab": {},
    "colab_type": "code",
    "id": "agi3U3863A5i"
   },
   "outputs": [
    {
     "name": "stdout",
     "output_type": "stream",
     "text": [
      "False\n",
      "True\n"
     ]
    }
   ],
   "source": [
    "#Equality Operator\n",
    "#Take two different float values.\n",
    "#Store them in two different variables.\n",
    "\n",
    "#Equuate them using equality operator (==, !=)\n",
    "\n",
    "#Observe the output(return type should be boolean)\n",
    "\n",
    "a = 10.55\n",
    "b = 5.20\n",
    "\n",
    "print(a==b)\n",
    "print(a!=b)\n"
   ]
  },
  {
   "cell_type": "code",
   "execution_count": 21,
   "metadata": {
    "colab": {},
    "colab_type": "code",
    "id": "3HLlgaEt3EnJ"
   },
   "outputs": [
    {
     "name": "stdout",
     "output_type": "stream",
     "text": [
      "20.3\n",
      "0.0\n",
      "0.0\n",
      "0.0\n",
      "10.2\n",
      "20.3\n",
      "20.3\n",
      "0.0\n",
      "False\n",
      "True\n"
     ]
    }
   ],
   "source": [
    "#Logical operators\n",
    "#Observe the output of below code\n",
    "#Cross check the output manually\n",
    "\n",
    "'''and looks for False, if not found gives last true'''\n",
    "print(10.20 and 20.30)       #True and True = Second True = 20.30    #both are true and second value taken >Output is 20.3\n",
    "print(0.0 and 20.30)         #False and True = False = 0.0        #First is false so first value taken->Output is 0.0\n",
    "print(20.30 and 0.0)         #True and False = False = 0.0        #Goes to till second and second value is false so second is taken>Output is 0.0\n",
    "print(0.0 and 0.0)           #False and False = First False = 0.0  #First is false so first value is taken->Output is 0.0\n",
    "\n",
    "'''or looks for True, if not found gives last false'''\n",
    "print(10.20 or 20.30)        #True or True = First True = 10.20     #First is True so first value is taken>Output is 10.2\n",
    "print(0.0 or 20.30)          #False or True = True = 20.30          #Goes to till second and second is true second value is taken->Output is 20.3\n",
    "print(20.30 or 0.0)          #True or False = True = 20.30          #First is True so first value is taken->Output is 20.3\n",
    "print(0.0 or 0.0)            #False or False = Second False = 0.0 #Goes to till second and secod is also false and second value is taken>Output is 0.0\n",
    "\n",
    "print(not 10.20)             #Not True = False               #Not of true is false->Output is False\n",
    "print(not 0.0)               #Not False = True               #Not of false is True>Output is True"
   ]
  },
  {
   "cell_type": "code",
   "execution_count": 25,
   "metadata": {
    "colab": {},
    "colab_type": "code",
    "id": "7YdyRNtk3UZd"
   },
   "outputs": [
    {
     "name": "stdout",
     "output_type": "stream",
     "text": [
      "False\n",
      "True\n"
     ]
    },
    {
     "data": {
      "text/plain": [
       "'object reusability is not applicable for float variables. So id is not same. Object reusability only applicable for integer in range (-5,256), String (a-z, A-Z , 0-9), boolean and None '"
      ]
     },
     "execution_count": 25,
     "metadata": {},
     "output_type": "execute_result"
    }
   ],
   "source": [
    "#What is the output of expression inside print statement. Cross check before running the program.\n",
    "a = 10.20\n",
    "b = 10.20\n",
    "print(a is b)          #True or False? False - Id not same\n",
    "print(a is not b)      #True or False? True - Id not same\n",
    "\n",
    "# Why the Id of float values are different when the same value is assigned to two different variables\n",
    "'''object reusability is not applicable for float variables. So id is not same. \\\n",
    "Object reusability only applicable for integer in range (-5,256), String (a-z, A-Z , 0-9), boolean and None '''"
   ]
  },
  {
   "cell_type": "code",
   "execution_count": 27,
   "metadata": {
    "colab": {},
    "colab_type": "code",
    "id": "iTvnIMLd3VLW"
   },
   "outputs": [
    {
     "data": {
      "text/plain": [
       "'In bit representation of float, In 32 bit, first bit is sign, nex 8 is exponent & last 23 is fraction. Hence bitwise operation is not feasible.'"
      ]
     },
     "execution_count": 27,
     "metadata": {},
     "output_type": "execute_result"
    }
   ],
   "source": [
    "#Bitwise operation is not applicable between instances of float.\n",
    "'''In bit representation of float, In 32 bit, first bit is sign, nex 8 is exponent & last 23 is fraction. \\\n",
    "Hence bitwise operation is not feasible.'''\n"
   ]
  },
  {
   "cell_type": "code",
   "execution_count": 19,
   "metadata": {
    "colab": {},
    "colab_type": "code",
    "id": "29AVJHpx3YUo"
   },
   "outputs": [
    {
     "name": "stdout",
     "output_type": "stream",
     "text": [
      "True\n",
      "True\n",
      "True\n",
      "True\n",
      "True\n",
      "True\n"
     ]
    }
   ],
   "source": [
    "#Membership operation\n",
    "#in, not in are two membership operators and it returns boolean value\n",
    "\n",
    "print('2.7' in 'Python2.7.8')              # string 2.7 present in string        # True\n",
    "print(10.20 in [10,10.20,10+20j,'Python']) # 10.20 present in list               # True\n",
    "print(10.20 in (10,10.20,10+20j,'Python')) # 10.20 present in tuple              # True\n",
    "print(20.30 in {1,20.30,30+40j})           # 20.30 present in set                # True\n",
    "print(2.3 in {1:100, 2.3:200, 30+40j:300}) # 2.3 present as key in dictionary    # True\n",
    "print(10 in range(20))                     # 10 present in range (0,20)          # True"
   ]
  },
  {
   "cell_type": "code",
   "execution_count": null,
   "metadata": {},
   "outputs": [],
   "source": []
  },
  {
   "cell_type": "markdown",
   "metadata": {},
   "source": [
    "## Completed"
   ]
  },
  {
   "cell_type": "code",
   "execution_count": null,
   "metadata": {},
   "outputs": [],
   "source": []
  }
 ],
 "metadata": {
  "colab": {
   "name": "float_assignment.ipynb",
   "provenance": []
  },
  "kernelspec": {
   "display_name": "Python 3",
   "language": "python",
   "name": "python3"
  },
  "language_info": {
   "codemirror_mode": {
    "name": "ipython",
    "version": 3
   },
   "file_extension": ".py",
   "mimetype": "text/x-python",
   "name": "python",
   "nbconvert_exporter": "python",
   "pygments_lexer": "ipython3",
   "version": "3.7.6"
  }
 },
 "nbformat": 4,
 "nbformat_minor": 1
}
