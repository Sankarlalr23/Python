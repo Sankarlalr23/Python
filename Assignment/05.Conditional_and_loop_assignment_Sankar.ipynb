{
 "cells": [
  {
   "cell_type": "markdown",
   "metadata": {
    "colab_type": "text",
    "id": "wNRNTbrsc53d"
   },
   "source": [
    "# If - elif - else statement"
   ]
  },
  {
   "cell_type": "code",
   "execution_count": 12,
   "metadata": {
    "colab": {},
    "colab_type": "code",
    "id": "MiPfTnBycxNa"
   },
   "outputs": [
    {
     "name": "stdout",
     "output_type": "stream",
     "text": [
      "Enter the number in range 0 to 9 : 7\n",
      "seven\n"
     ]
    }
   ],
   "source": [
    "#W. A P. which takes one number from 0 to 9 from the user and prints it in the word. And if the word is not from 0 to 9 then\n",
    "#it should print that number is outside of the range and program should exit.\n",
    "# For exapmple:- \n",
    "# input = 1\n",
    "# output = one\n",
    "\n",
    "alp = ['zero','one','two','three','four','five','six','seven','eight','nine']\n",
    "num = int(input(\"Enter the number in range 0 to 9 : \"))\n",
    "\n",
    "if num in range(len(alp)):\n",
    "    print(alp[num])\n",
    "else:\n",
    "    print(f'{num} is outside the range 0 to 9')\n"
   ]
  },
  {
   "cell_type": "code",
   "execution_count": 40,
   "metadata": {
    "colab": {},
    "colab_type": "code",
    "id": "vEMNOv9zdA39"
   },
   "outputs": [
    {
     "name": "stdout",
     "output_type": "stream",
     "text": [
      "Enter first number : 5\n",
      "Enter second number : 2\n",
      "\n",
      "Please select any one operation from below:-\n",
      "1 - add\n",
      "2 - Subtract\n",
      "3 - Multiply\n",
      "4 - Divide\n",
      "5 - divide and find quotient\n",
      "6 - divide and find remainder\n",
      "7 - first number to the power of second number\n",
      "8 - Exit program\n",
      "\n",
      "Enter the operation id : 7\n",
      "25\n"
     ]
    }
   ],
   "source": [
    "#W. A P. to implement calculator but the operation to be done and two numbers will be taken as input from user:-\n",
    "#Operation console should show below:-\n",
    "#     Please select any one operation from below:-\n",
    "#         * To add enter 1\n",
    "#         * to subtract enter 2\n",
    "#         * To multiply enter 3\n",
    "#         * To divide enter 4\n",
    "#         * To divide and find quotient enter 5\n",
    "#         * To divide and find remainder enter 6\n",
    "#         * To divide and find num1 to the power of num2 enter 7\n",
    "#         * To Come out of the program enter 8\n",
    "\n",
    "num1 = int(input('Enter first number : '))\n",
    "num2 = int(input('Enter second number : '))\n",
    "\n",
    "print()\n",
    "print('Please select any one operation from below:-')\n",
    "print ('1 - add')\n",
    "print('2 - Subtract')\n",
    "print('3 - Multiply')\n",
    "print('4 - Divide')\n",
    "print('5 - divide and find quotient')\n",
    "print('6 - divide and find remainder')\n",
    "print('7 - first number to the power of second number')\n",
    "print('8 - Exit program')\n",
    "print()\n",
    "\n",
    "opp = int(input(\"Enter the operation id : \"))\n",
    "\n",
    "operation = [num1+num2, num1-num2, num1*num2, num1/num2, num1//num2, num1%num2, num1**num2, '']\n",
    "\n",
    "# if opp == 4:\n",
    "#     print('{:.2f}'.format(operation[opp-1]))\n",
    "\n",
    "# else:\n",
    "\n",
    "print(operation[opp-1])\n"
   ]
  },
  {
   "cell_type": "code",
   "execution_count": 57,
   "metadata": {
    "colab": {},
    "colab_type": "code",
    "id": "1e2gwYLqdC1s"
   },
   "outputs": [
    {
     "name": "stdout",
     "output_type": "stream",
     "text": [
      "Enter a year : 1700\n",
      "1700 is a not leap year\n"
     ]
    }
   ],
   "source": [
    "#W A P to check whether a year entered by user is an leap year or not?\n",
    "#Check with below input:-\n",
    "    #leap year:- 2012, 1968, 2004, 1200, 1600,2400\n",
    "    #Non-lear year:- 1971, 2006, 1700,1800,1900\n",
    "\n",
    "year = int(input(\"Enter a year : \"))\n",
    "\n",
    "# lst = [2012, 1968, 2004, 1200, 1600,2400, 1971, 2006, 1700,1800,1900]   #to check all input #\n",
    "\n",
    "# if year%4 == 0 and year%100 != 0:   ####another method ####\n",
    "#     print(f'{year} is a leap year')\n",
    "\n",
    "# elif year%4 == 0 and year%100 == 0:\n",
    "#     if year%400 == 0:\n",
    "#         print(f'{year} is a leap year')\n",
    "#     else:\n",
    "#         print(f'{year} is a not leap year')\n",
    "# else:\n",
    "#     print(f'{year} is a not leap year')     \n",
    "\n",
    "# for year in lst:\n",
    "if year%4 == 0:\n",
    "    if year%100 != 0:\n",
    "        print(f'{year} is a leap year')\n",
    "    elif year%400 == 0:\n",
    "        print(f'{year} is a leap year')  \n",
    "    else:\n",
    "        print(f'{year} is a not leap year')       \n",
    "else:\n",
    "    print(f'{year} is a not leap year')"
   ]
  },
  {
   "cell_type": "code",
   "execution_count": 58,
   "metadata": {
    "colab": {},
    "colab_type": "code",
    "id": "_tpXv1EtdEre"
   },
   "outputs": [
    {
     "name": "stdout",
     "output_type": "stream",
     "text": [
      "Enter number : 25\n",
      "25 is odd number\n"
     ]
    }
   ],
   "source": [
    "#W A P which takes one number from the user and checks whether it is an even or odd number?, If it even then prints number is \n",
    "#even number else prints that number is odd number.\n",
    "\n",
    "num = int(input('Enter number : '))\n",
    "\n",
    "if num%2 == 0:\n",
    "    print(f'{num} is even number')\n",
    "else:\n",
    "    print(f'{num} is odd number')\n"
   ]
  },
  {
   "cell_type": "code",
   "execution_count": 75,
   "metadata": {
    "colab": {},
    "colab_type": "code",
    "id": "Q1HumymCdG6i"
   },
   "outputs": [
    {
     "name": "stdout",
     "output_type": "stream",
     "text": [
      "Enter first number, num1 : 2\n",
      "Enter second number, num2 : 2\n",
      "num1 is equal to num2\n"
     ]
    }
   ],
   "source": [
    "#W A P which takes two numbers from the user and prints below output:-\n",
    "#     1. num1 is greater than num2 if num1 is greater than num2\n",
    "#     2. num1 is smaller than num2 if num1 is smaller than num2\n",
    "#     3. num1 is equal to num2 if num1 and num2 are equal\n",
    "\n",
    "#Note:- 1. Do this problem using if - else \n",
    "#       2. Do this using ternary operator\n",
    "\n",
    "num1 = int(input('Enter first number, num1 : '))\n",
    "num2 = int(input('Enter second number, num2 : '))\n",
    "\n",
    "if num1!=num2:\n",
    "    print('num1 is greater than num2' if num1>num2 else 'num1 is smaller than num2')\n",
    "else:\n",
    "    print('num1 is equal to num2')\n"
   ]
  },
  {
   "cell_type": "code",
   "execution_count": 82,
   "metadata": {
    "colab": {},
    "colab_type": "code",
    "id": "LR6TVB-DdOPf"
   },
   "outputs": [
    {
     "name": "stdout",
     "output_type": "stream",
     "text": [
      "Enter first number, num1 : 5\n",
      "Enter second number, num2 : 5\n",
      "Enter third number, num3 : 5\n",
      "\n"
     ]
    }
   ],
   "source": [
    "#W A P which takes three numbers from the user and prints below output:-\n",
    "#     1. num1 is greater than num2 and num3 if num1 is greater than num2 and num3\n",
    "#     2. num2 is greater than num1 and num3 if num2 is greater than num1 and num3\n",
    "#     3. num3 is greater than num1 and num2 if num3 is greater than num1 and num2\n",
    "\n",
    "#Note:- 1. Do this problem using if - elif - else \n",
    "#       2. Do this using ternary operator\n",
    "\n",
    "# a = a if a>b else b\n",
    "# expr if cond1 else expr2 if cond2 else expr3\n",
    "\n",
    "num1 = int(input('Enter first number, num1 : '))\n",
    "num2 = int(input('Enter second number, num2 : '))\n",
    "num3 = int(input('Enter third number, num3 : '))\n",
    "\n",
    "print('num1 is greater than num2 and num3' if (num1>num2 and num1>num3) else 'num2 is greater than num1 and num3' if (num2>num1 and num2>num3) else 'num3 is greater than num1 and num2' if (num3>num1 and num3>num2) else '')\n"
   ]
  },
  {
   "cell_type": "markdown",
   "metadata": {
    "colab_type": "text",
    "id": "IoOLQMUGdSox"
   },
   "source": [
    "# Loops - for loop, while loop"
   ]
  },
  {
   "cell_type": "code",
   "execution_count": 86,
   "metadata": {
    "colab": {},
    "colab_type": "code",
    "id": "9K23Uld8dQfA"
   },
   "outputs": [
    {
     "name": "stdout",
     "output_type": "stream",
     "text": [
      "Enter string: Write a Python program to find the length of the my_str\n",
      "55\n"
     ]
    }
   ],
   "source": [
    "#Write a Python program to find the length of the my_str using loop:-\n",
    "\n",
    "#Input:- 'Write a Python program to find the length of the my_str'\n",
    "#Output:- 55\n",
    "\n",
    "inp_str = input('Enter string: ')\n",
    "\n",
    "length = 0\n",
    "\n",
    "for i in inp_str:\n",
    "    length += 1\n",
    "    \n",
    "print(length)\n",
    "    \n",
    "# print(len(inp_str))\n"
   ]
  },
  {
   "cell_type": "code",
   "execution_count": 89,
   "metadata": {
    "colab": {},
    "colab_type": "code",
    "id": "bp6AcqTsdYxy"
   },
   "outputs": [
    {
     "name": "stdout",
     "output_type": "stream",
     "text": [
      "Enter string: peter piper picked a peck of pickled peppers.\\n\n",
      "No. of p in string :  9\n"
     ]
    }
   ],
   "source": [
    "#Write a Python program to find the total number of times letter 'p' is appeared in the below string using loop:-\n",
    "    \n",
    "#Input:- 'peter piper picked a peck of pickled peppers.\\n'\n",
    "#Output:- 9\n",
    "\n",
    "inp_str = input('Enter string: ')\n",
    "\n",
    "count = 0\n",
    "\n",
    "for i in inp_str:\n",
    "    if i is 'p':\n",
    "        count += 1\n",
    "print('No. of p in string : ', count)"
   ]
  },
  {
   "cell_type": "code",
   "execution_count": 92,
   "metadata": {
    "colab": {},
    "colab_type": "code",
    "id": "xvxSBhTJdav1"
   },
   "outputs": [
    {
     "name": "stdout",
     "output_type": "stream",
     "text": [
      "Enter string: peter piper picked a peck of pickled peppers.\n",
      "0\n",
      "6\n",
      "8\n",
      "12\n",
      "21\n",
      "29\n",
      "37\n",
      "39\n",
      "40\n"
     ]
    }
   ],
   "source": [
    "#Write a Python Program, to print all the indexes of all occurences of letter 'p' appeared in the string using loop:-\n",
    "    \n",
    "#Input:- 'peter piper picked a peck of pickled peppers.'\n",
    "#Output:- \n",
    "# 0\n",
    "# 6\n",
    "# 8\n",
    "# 12\n",
    "# 21\n",
    "# 29\n",
    "# 37\n",
    "# 39\n",
    "# 40\n",
    "\n",
    "inp_str = input('Enter string: ')\n",
    "\n",
    "for i in range(len(inp_str)):\n",
    "    if inp_str[i] is 'p':\n",
    "        print(i)"
   ]
  },
  {
   "cell_type": "code",
   "execution_count": 95,
   "metadata": {
    "colab": {},
    "colab_type": "code",
    "id": "79L_feMadbmw"
   },
   "outputs": [
    {
     "name": "stdout",
     "output_type": "stream",
     "text": [
      "Enter string : peter piper picked a peck of pickled peppers.\n",
      "['peter', 'piper', 'picked', 'a', 'peck', 'of', 'pickled', 'peppers']\n"
     ]
    }
   ],
   "source": [
    "#Write a python program to find below output using loop:-\n",
    "\n",
    "#Input:- 'peter piper picked a peck of pickled peppers.'\n",
    "#Output:- ['peter', 'piper', 'picked', 'a', 'peck', 'of', 'pickled', 'peppers']\n",
    "\n",
    "inp_str = input('Enter string : ')\n",
    "\n",
    "out_str = '' \n",
    "out_lst = []\n",
    "\n",
    "for i in inp_str:\n",
    "    if i == ' ' or i == '.':\n",
    "        out_lst.append(out_str)\n",
    "#         print(out_str)\n",
    "        out_str = ''\n",
    "    else:\n",
    "        out_str = out_str + i\n",
    "print(out_lst)"
   ]
  },
  {
   "cell_type": "code",
   "execution_count": 99,
   "metadata": {
    "colab": {},
    "colab_type": "code",
    "id": "vzs5AJ53deVS"
   },
   "outputs": [
    {
     "name": "stdout",
     "output_type": "stream",
     "text": [
      "Enter string : peter piper picked a peck of pickled peppers.\n",
      " peppers pickled of peck a picked piper peter\n"
     ]
    }
   ],
   "source": [
    "#Write a python program to find below output using loop:-\n",
    "\n",
    "#Input:- 'peter piper picked a peck of pickled peppers.'\n",
    "#Output:- 'peppers pickled of peck a picked piper peter'\n",
    "\n",
    "inp_str = input('Enter string : ')\n",
    "\n",
    "out_str = '' \n",
    "out_lst = []\n",
    "\n",
    "for i in inp_str:\n",
    "    if i == ' ' or i == '.':\n",
    "        out_lst.append(out_str)\n",
    "#         print(out_str)\n",
    "        out_str = ''\n",
    "    else:\n",
    "        out_str = out_str + i\n",
    "\n",
    "out1_str = ''  \n",
    "\n",
    "for i in range(-1, -len(out_lst)-1,-1):\n",
    "    out1_str = out1_str + ' ' + out_lst[i]\n",
    "        \n",
    "print(out1_str)"
   ]
  },
  {
   "cell_type": "code",
   "execution_count": 7,
   "metadata": {
    "colab": {},
    "colab_type": "code",
    "id": "i-HP7DrCdhwS"
   },
   "outputs": [
    {
     "name": "stdout",
     "output_type": "stream",
     "text": [
      "Enter string : peter piper picked a peck of pickled peppers.\n",
      ".sreppep delkcip fo kcep a dekcip repip retep"
     ]
    }
   ],
   "source": [
    "#Write a python program to find below output using loop:-\n",
    "\n",
    "#Input:- 'peter piper picked a peck of pickled peppers.'\n",
    "#Output:- '.sreppep delkcip fo kcep a dekcip repip retep'\n",
    "\n",
    "inp_str = input('Enter string : ')\n",
    "\n",
    "lst = list(inp_str)\n",
    "\n",
    "for i in range(len(lst)):\n",
    "    print(lst[-1-i], end='')\n"
   ]
  },
  {
   "cell_type": "code",
   "execution_count": 15,
   "metadata": {
    "colab": {},
    "colab_type": "code",
    "id": "3rt6p0ytdkq0"
   },
   "outputs": [
    {
     "name": "stdout",
     "output_type": "stream",
     "text": [
      "Enter string : peter piper picked a peck of pickled peppers.\n",
      "retep repip dekcip a kcep fo delkcip sreppep "
     ]
    }
   ],
   "source": [
    "#Write a python program to find below output using loop:-\n",
    "\n",
    "#Input:- 'peter piper picked a peck of pickled peppers.'\n",
    "#Output:- 'retep repip dekcip a kcep fo delkcip sreppep'\n",
    "\n",
    "inp_str = input('Enter string : ')\n",
    "\n",
    "lst = list(inp_str)\n",
    "lst2 = []\n",
    " \n",
    "for i in range(len(lst)):\n",
    "    if lst[i] == ' ' or lst[i] == '.':\n",
    "        for j in range(len(lst2)):\n",
    "            print(lst2[-1-j], end='')\n",
    "        print(' ', end = '')\n",
    "        lst2 = []\n",
    "    else:\n",
    "        lst2.append(lst[i])"
   ]
  },
  {
   "cell_type": "code",
   "execution_count": 31,
   "metadata": {
    "colab": {},
    "colab_type": "code",
    "id": "HdlAWgT2dnKO"
   },
   "outputs": [
    {
     "name": "stdout",
     "output_type": "stream",
     "text": [
      "Enter string : peter piper picked a peck of pickled peppers.\n",
      "Peter Piper Picked A Peck Of Pickled Peppers\n"
     ]
    }
   ],
   "source": [
    "#Write a python program to find below output using loop:-\n",
    "\n",
    "#Input:- 'peter piper picked a peck of pickled peppers.'\n",
    "#Output:- 'Peter Piper Picked A Peck Of Pickled Peppers'\n",
    "\n",
    "inp_str = input('Enter string : ')\n",
    "\n",
    "# lst = list(inp_str)\n",
    "\n",
    "# for i in range (len(lst)):\n",
    "#     if i == 0 or lst[i-1] == ' ':\n",
    "#         print(chr(ord(lst[i])-32),end='')\n",
    "#     else:\n",
    "#         print(lst[i],end='')\n",
    "\n",
    "\n",
    "lst = list(inp_str)\n",
    "lst2 = []\n",
    "str1 = ''\n",
    "\n",
    "for i in range(len(lst)):\n",
    "    if lst[i] == ' ':\n",
    "        print(str1.capitalize(),end = '')\n",
    "        print(' ', end = '')\n",
    "        str1 = ''\n",
    "    elif lst[i] == '.':\n",
    "        print(str1.capitalize())\n",
    "    else:\n",
    "        str1 = str1 + lst[i]"
   ]
  },
  {
   "cell_type": "code",
   "execution_count": 36,
   "metadata": {
    "colab": {},
    "colab_type": "code",
    "id": "OthUuacodrNl"
   },
   "outputs": [
    {
     "name": "stdout",
     "output_type": "stream",
     "text": [
      "Enter string : Peter Piper Picked A Peck Of Pickled Peppers.\n",
      "Peter piper picked a peck of pickled peppers."
     ]
    }
   ],
   "source": [
    "#Write a python program to find below output using loop:-\n",
    "\n",
    "#Input:- 'Peter Piper Picked A Peck Of Pickled Peppers.'\n",
    "#Output:- 'Peter piper picked a peck of pickled peppers'\n",
    "\n",
    "inp_str = input('Enter string : ')\n",
    "\n",
    "# print(inp_str.capitalize())\n",
    "lst = list(inp_str)\n",
    "\n",
    "for i in range (len(lst)):\n",
    "    if i == 0:\n",
    "        print(lst[i].upper(),end ='')\n",
    "    else:\n",
    "        print(lst[i].lower(),end='')"
   ]
  },
  {
   "cell_type": "code",
   "execution_count": 38,
   "metadata": {
    "colab": {
     "base_uri": "https://localhost:8080/",
     "height": 34
    },
    "colab_type": "code",
    "id": "scmDJE-ldsI9",
    "outputId": "4b1d1979-9f4a-4bc6-c505-b88b1bbd4d5d"
   },
   "outputs": [
    {
     "name": "stdout",
     "output_type": "stream",
     "text": [
      "Enter string : Peter Piper Picked A Peck Of Pickled Peppers.\n",
      "Enter sub string : Pickl\n",
      "29\n"
     ]
    }
   ],
   "source": [
    "#Write a python program to implement index method using loop. If sub_str is found in my_str then it will print the index\n",
    "# of first occurrence of first character of matching string in my_str:-\n",
    "\n",
    "#Input:- my_str = 'Peter Piper Picked A Peck Of Pickled Peppers.', sub_str = 'Pickl'\n",
    "#Output:- 29\n",
    "\n",
    "my_str = input('Enter string : ')\n",
    "sub_str = input('Enter sub string : ')\n",
    "\n",
    "print(my_str.rindex(sub_str))\n"
   ]
  },
  {
   "cell_type": "code",
   "execution_count": 49,
   "metadata": {
    "colab": {},
    "colab_type": "code",
    "id": "Kq_fwdb_dvYE"
   },
   "outputs": [
    {
     "name": "stdout",
     "output_type": "stream",
     "text": [
      "Enter string : Peter Piper Picked A Peck Of Pickled Peppers.\n",
      "Enter sub string : Peck\n",
      "Enter new string : Pack\n",
      "\n",
      "Peter Piper Picked A Pack Of Pickled Peppers."
     ]
    }
   ],
   "source": [
    "#Write a python program to implement replace method using loop. If sub_str is found in my_str then it will replace the first \n",
    "#occurrence of sub_str with new_str else it will will print sub_str not found:-\n",
    "\n",
    "#Input:- my_str = 'Peter Piper Picked A Peck Of Pickled Peppers.', sub_str = 'Peck', new_str = 'Pack'\n",
    "#Output:- 'Peter Piper Picked A Pack Of Pickled Peppers.'\n",
    "\n",
    "my_str = input('Enter string : ')\n",
    "sub_str = input('Enter sub string : ')\n",
    "new_str = input('Enter new string : ')\n",
    "\n",
    "ind = my_str.rfind(sub_str)\n",
    "\n",
    "print()\n",
    "\n",
    "if ind == -1:\n",
    "    print('sub string not found')\n",
    "else:\n",
    "    for i in range(ind):\n",
    "        print(my_str[i],end='')\n",
    "    for i in range(len(new_str)):\n",
    "        print(new_str[i],end='')\n",
    "    for i in range(ind+len(sub_str),len(my_str)):\n",
    "        print(my_str[i], end='')\n",
    "\n",
    "\n"
   ]
  },
  {
   "cell_type": "code",
   "execution_count": 50,
   "metadata": {
    "colab": {},
    "colab_type": "code",
    "id": "4Qes5D0cdyd1"
   },
   "outputs": [
    {
     "name": "stdout",
     "output_type": "stream",
     "text": [
      "Enter string : Peter Piper Picked A Peck Of Pickled Peppers.\n",
      "Enter sub string : Peck\n",
      "\n",
      "*********************Peck********************"
     ]
    }
   ],
   "source": [
    "#Write a python program to find below output (implements rjust and ljust) using loop:-\n",
    "\n",
    "#Input:- 'Peter Piper Picked A Peck Of Pickled Peppers.', sub_str = 'Peck', \n",
    "#Output:- '*********************Peck********************'\n",
    "\n",
    "my_str = input('Enter string : ')\n",
    "sub_str = input('Enter sub string : ')\n",
    "\n",
    "ind = my_str.rfind(sub_str)\n",
    "\n",
    "print()\n",
    "\n",
    "if ind == -1:\n",
    "    print('sub string not found')\n",
    "else:\n",
    "    for i in range(ind):\n",
    "        print('*',end='')\n",
    "    for i in range(len(sub_str)):\n",
    "        print(sub_str[i],end='')\n",
    "    for i in range(ind+len(sub_str),len(my_str)):\n",
    "        print('*', end='')\n",
    "\n"
   ]
  },
  {
   "cell_type": "code",
   "execution_count": 54,
   "metadata": {
    "colab": {},
    "colab_type": "code",
    "id": "DsOrb07Od0lR"
   },
   "outputs": [
    {
     "name": "stdout",
     "output_type": "stream",
     "text": [
      "Enter string : This is Python class\n",
      "Enter sub string : is\n",
      "\n",
      "['This ', 'is', ' Python class']\n"
     ]
    }
   ],
   "source": [
    "#Write a python program to find below output using loop:-\n",
    "\n",
    "#Input:- 'This is Python class', sep = 'is', \n",
    "#Output:- ['This', 'is', 'Python class']\n",
    "\n",
    "inp = input('Enter string : ')\n",
    "sep = input('Enter sub string : ')\n",
    "\n",
    "ind = inp.rfind(sep)\n",
    "\n",
    "lst = []\n",
    "str1 = ''\n",
    "\n",
    "print()\n",
    "\n",
    "if ind == -1:\n",
    "    print('sub string not found')\n",
    "else:\n",
    "    for i in range(ind):\n",
    "        str1 = str1 + inp[i]\n",
    "    lst.append(str1)\n",
    "    str1 = ''\n",
    "    for i in range(len(sep)):\n",
    "        str1 = str1 + sep[i]\n",
    "    lst.append(str1)\n",
    "    str1 = ''\n",
    "    for i in range(ind+len(sep),len(inp)):\n",
    "        str1 = str1 + inp[i]\n",
    "    lst.append(str1)\n",
    "\n",
    "print(lst)"
   ]
  },
  {
   "cell_type": "code",
   "execution_count": 66,
   "metadata": {
    "colab": {},
    "colab_type": "code",
    "id": "jRnBVufmd2Ay"
   },
   "outputs": [
    {
     "name": "stdout",
     "output_type": "stream",
     "text": [
      "Enter string : Python\n",
      "R{vjqp"
     ]
    }
   ],
   "source": [
    "#Write a python program which takes one input string from user and encode it in below format:-\n",
    "    # 1. #Input:- 'Python'\n",
    "       #Output:- 'R{vjqp'\n",
    "inp = input('Enter string : ')\n",
    "\n",
    "dict1 = {'P':'R','y':'{','t':'v','h':'j','o':'q','n':'p'}\n",
    "        \n",
    "for i in inp:\n",
    "    if i in dict1:\n",
    "        print(dict1[i],end='')\n",
    "    else:\n",
    "        print('no code available')\n",
    "        break"
   ]
  },
  {
   "cell_type": "code",
   "execution_count": 67,
   "metadata": {},
   "outputs": [
    {
     "name": "stdout",
     "output_type": "stream",
     "text": [
      "Enter string : Python\n",
      "Rwvfql"
     ]
    }
   ],
   "source": [
    "#Write a python program which takes one input string from user and encode it in below format:-\n",
    " # 2. #Input:- 'Python'\n",
    "       #Output:- 'Rwvfql'\n",
    "\n",
    "inp = input('Enter string : ')\n",
    "\n",
    "dict1 = {'P':'R','y':'w','t':'v','h':'f','o':'q','n':'l'}\n",
    "        \n",
    "for i in inp:\n",
    "    if i in dict1:\n",
    "        print(dict1[i],end='')\n",
    "    else:\n",
    "        print('no code available')\n",
    "        break        "
   ]
  },
  {
   "cell_type": "code",
   "execution_count": 2,
   "metadata": {},
   "outputs": [
    {
     "name": "stdout",
     "output_type": "stream",
     "text": [
      "Enter string : Python\n",
      "R{vfml"
     ]
    }
   ],
   "source": [
    "#Write a python program which takes one input string from user and encode it in below format:-\n",
    "# 3. #Input:- 'Python'\n",
    "       #Output:- 'R{vfml'\n",
    "\n",
    "inp = input('Enter string : ')\n",
    "\n",
    "dict1 = {'P':'R','y':'{','t':'v','h':'f','o':'m','n':'l'}\n",
    "        \n",
    "for i in inp:\n",
    "    if i in dict1:\n",
    "        print(dict1[i],end='')\n",
    "    else:\n",
    "        print('no code available')\n",
    "        break   \n",
    "# print(dict1[len(inp)])          #printing dict value corresponding to len(input) as output has one chara more than that in input\n",
    "        "
   ]
  },
  {
   "cell_type": "markdown",
   "metadata": {},
   "source": [
    "## Completed"
   ]
  },
  {
   "cell_type": "code",
   "execution_count": null,
   "metadata": {},
   "outputs": [],
   "source": []
  }
 ],
 "metadata": {
  "colab": {
   "name": "Conditional_and_loop_assignment.ipynb",
   "provenance": []
  },
  "kernelspec": {
   "display_name": "Python 3",
   "language": "python",
   "name": "python3"
  },
  "language_info": {
   "codemirror_mode": {
    "name": "ipython",
    "version": 3
   },
   "file_extension": ".py",
   "mimetype": "text/x-python",
   "name": "python",
   "nbconvert_exporter": "python",
   "pygments_lexer": "ipython3",
   "version": "3.7.6"
  }
 },
 "nbformat": 4,
 "nbformat_minor": 1
}
