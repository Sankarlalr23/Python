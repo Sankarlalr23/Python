{
 "cells": [
  {
   "cell_type": "code",
   "execution_count": 5,
   "metadata": {
    "colab": {},
    "colab_type": "code",
    "id": "JoMbQLjK3uHZ"
   },
   "outputs": [
    {
     "name": "stdout",
     "output_type": "stream",
     "text": [
      "True\n",
      "2489382599088\n"
     ]
    }
   ],
   "source": [
    "#Declare a complex number and store it in a variable. \n",
    "\n",
    "a = 10+10j\n",
    "\n",
    "#Check the type and print the id of the same.\n",
    "\n",
    "print(type(a) is complex)\n",
    "\n",
    "print(id(a))\n"
   ]
  },
  {
   "cell_type": "code",
   "execution_count": 7,
   "metadata": {
    "colab": {},
    "colab_type": "code",
    "id": "6N6Ee4BU33jk"
   },
   "outputs": [
    {
     "name": "stdout",
     "output_type": "stream",
     "text": [
      "(25+45j)\n",
      "(-5-5j)\n",
      "(-350+550j)\n",
      "(0.7647058823529411+0.058823529411764705j)\n",
      "(166408860.12142062+7002018.15230261j)\n"
     ]
    }
   ],
   "source": [
    "#Arithmatic Operations on complex number\n",
    "#Take two different complex number.\n",
    "#Store them in two different variables.\n",
    "#Do below operations on them:-\n",
    "    #Find sum of both numbers\n",
    "    #Find differce between them\n",
    "    #Find the product of both numbers.\n",
    "    #Find value after dividing first num with second number\n",
    "    #Find the result of first num to the power of second number.\n",
    "\n",
    "a = 10+20j\n",
    "b = 15+25j\n",
    "\n",
    "print(a+b)\n",
    "print(a-b)\n",
    "print(a*b)\n",
    "print(a/b)\n",
    "print(a**b)\n"
   ]
  },
  {
   "cell_type": "code",
   "execution_count": 12,
   "metadata": {
    "colab": {},
    "colab_type": "code",
    "id": "xhkdg7LD352y"
   },
   "outputs": [
    {
     "data": {
      "text/plain": [
       "'object reusability is not applicable for complex.Object reusability only applicable for integer in range (-5,256), String (a-z, A-Z , 0-9), boolean and None '"
      ]
     },
     "execution_count": 12,
     "metadata": {},
     "output_type": "execute_result"
    }
   ],
   "source": [
    "#Comparison Operation not applicable between instance of complex values\n",
    "#Object reusability concept is not applicable on complex numebr\n",
    "'''object reusability is not applicable for complex.\\\n",
    "Object reusability only applicable for integer in range (-5,256), String (a-z, A-Z , 0-9), boolean and None '''"
   ]
  },
  {
   "cell_type": "code",
   "execution_count": 13,
   "metadata": {
    "colab": {},
    "colab_type": "code",
    "id": "4lzPH2sb38KM"
   },
   "outputs": [
    {
     "name": "stdout",
     "output_type": "stream",
     "text": [
      "False\n",
      "True\n"
     ]
    }
   ],
   "source": [
    "#Equality Operator\n",
    "#Take two different complex numbers.\n",
    "#Store them in two different variables.\n",
    "#Equuate them using equality operator (==, !=)\n",
    "#Observe the output(return type should be boolean)\n",
    "\n",
    "a = 10+20j\n",
    "b = 15+25j\n",
    "\n",
    "print(a==b)\n",
    "print(a!=b)\n"
   ]
  },
  {
   "cell_type": "code",
   "execution_count": 15,
   "metadata": {
    "colab": {},
    "colab_type": "code",
    "id": "EDEl19UD3_tr"
   },
   "outputs": [
    {
     "name": "stdout",
     "output_type": "stream",
     "text": [
      "(20+30j)\n",
      "0j\n",
      "0j\n",
      "0j\n",
      "(10+20j)\n",
      "(20+30j)\n",
      "(20+30j)\n",
      "0j\n",
      "False\n",
      "True\n"
     ]
    }
   ],
   "source": [
    "#Logical operators\n",
    "#Observe the output of below code\n",
    "#Cross check the output manually\n",
    "\n",
    "'''and looks for False, if not found gives last true'''\n",
    "print(10+20j and 20+30j)    #True and True = Second True = 20+30j    #----------------------------->Output is 20+30j\n",
    "print(0+0j and 20+30j)      #False and True = False = 0j             #----------------------------->Output is 0j\n",
    "print(20+30j and 0+0j)      #True and False = False = 0j             #----------------------------->Output is 0j\n",
    "print(0+0j and 0+0j)        #False and False = First False = 0j      #----------------------------->Output is 0j\n",
    "\n",
    "'''or looks for True, if not found gives last false'''\n",
    "print(10+20j or 20+30j)     #True or True = First True = 10+20j      #----------------------------->Output is 10+20j\n",
    "print(0+0j or 20+30j)       #False or True = True = 20+30j           #----------------------------->Output is 20+30j\n",
    "print(20+30j or 0+0j)       #True or False = True = 20+30j           #----------------------------->Output is 20+30j\n",
    "print(0+0j or 0+0j)         #False or False = Second False = 0j      #----------------------------->Output is 0j\n",
    "\n",
    "print(not 10+20j)           #Not True = False                        #----------------------------->Output is False\n",
    "print(not 0+0j)             #Not False = True                        #----------------------------->Output is True"
   ]
  },
  {
   "cell_type": "code",
   "execution_count": 16,
   "metadata": {
    "colab": {},
    "colab_type": "code",
    "id": "4ifueKbP4Br1"
   },
   "outputs": [
    {
     "name": "stdout",
     "output_type": "stream",
     "text": [
      "False\n",
      "True\n"
     ]
    }
   ],
   "source": [
    "#What is the output of expression inside print statement. Cross check before running the program.\n",
    "a = 10+20j\n",
    "b = 10+20j\n",
    "print(a is b)       #False - id(a) is not same as id(b) - no object reusability concept    #True or False?\n",
    "print(a is not b)   #True  - id(a) is not same as id(b)                                    #True or False?\n"
   ]
  },
  {
   "cell_type": "code",
   "execution_count": 17,
   "metadata": {
    "colab": {},
    "colab_type": "code",
    "id": "TxMbr5jQ4Dwl"
   },
   "outputs": [
    {
     "name": "stdout",
     "output_type": "stream",
     "text": [
      "True\n",
      "True\n",
      "True\n",
      "True\n",
      "True\n",
      "True\n"
     ]
    }
   ],
   "source": [
    "#Membership operation\n",
    "#in, not in are two membership operators and it returns boolean value\n",
    "\n",
    "print('2.7' in 'Python2.7.8')                      # string 2.7 present in string        # True\n",
    "print(10+20j in [10,10.20,10+20j,'Python'])        # 10+20j present in list              # True\n",
    "print(10+20j in (10,10.20,10+20j,'Python'))        # 10+20j present in tuple             # True\n",
    "print(30+40j in {1,20.30,30+40j})                  # 30+40j present in set               #True\n",
    "print(30+40j in {1:100, 2.3:200, 30+40j:300})      # 30+40j present as key in dictionary # True\n",
    "print(10 in range(20))                             # 10 present in range (0,20)          # True"
   ]
  },
  {
   "cell_type": "code",
   "execution_count": null,
   "metadata": {},
   "outputs": [],
   "source": []
  },
  {
   "cell_type": "markdown",
   "metadata": {},
   "source": [
    "## Completed"
   ]
  },
  {
   "cell_type": "code",
   "execution_count": null,
   "metadata": {},
   "outputs": [],
   "source": []
  }
 ],
 "metadata": {
  "colab": {
   "name": "Complex_Assignement.ipynb",
   "provenance": []
  },
  "kernelspec": {
   "display_name": "Python 3",
   "language": "python",
   "name": "python3"
  },
  "language_info": {
   "codemirror_mode": {
    "name": "ipython",
    "version": 3
   },
   "file_extension": ".py",
   "mimetype": "text/x-python",
   "name": "python",
   "nbconvert_exporter": "python",
   "pygments_lexer": "ipython3",
   "version": "3.7.6"
  }
 },
 "nbformat": 4,
 "nbformat_minor": 1
}
