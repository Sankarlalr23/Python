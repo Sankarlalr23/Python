{
 "cells": [
  {
   "cell_type": "code",
   "execution_count": 19,
   "metadata": {},
   "outputs": [
    {
     "name": "stdout",
     "output_type": "stream",
     "text": [
      "(0, 'a')\n",
      "a salary is 1000\n",
      "(1, 'b')\n",
      "b salary is 2000\n",
      "(2, 'c')\n",
      "c salary is 3000\n",
      "(3, 'd')\n",
      "d salary is 4000\n"
     ]
    }
   ],
   "source": [
    "name = ['a','b','c','d']\n",
    "sal = [1000,2000,3000,4000]\n",
    "\n",
    "for var in enumerate(name):\n",
    "    print(var)\n",
    "    print(f'{var[1]} salary is {sal[var[0]]}')"
   ]
  },
  {
   "cell_type": "code",
   "execution_count": 34,
   "metadata": {},
   "outputs": [
    {
     "name": "stdout",
     "output_type": "stream",
     "text": [
      "P\n",
      "yy\n",
      "ttt\n",
      "hhhh\n",
      "ooooo\n",
      "nnnnnn\n",
      "nnnnnn\n",
      "ooooo\n",
      "hhhh\n",
      "ttt\n",
      "yy\n",
      "P\n"
     ]
    }
   ],
   "source": [
    "s= 'Python'\n",
    "\n",
    "i =0\n",
    "    \n",
    "while i < len(s):\n",
    "    print(s[i]*(i+1))\n",
    "    i+=1\n",
    "    \n",
    "i = -1\n",
    "while i >=-len(s):\n",
    "    print(s[i]*abs(len(s)+1+i))\n",
    "    i -= 1"
   ]
  },
  {
   "cell_type": "code",
   "execution_count": 35,
   "metadata": {},
   "outputs": [
    {
     "name": "stdout",
     "output_type": "stream",
     "text": [
      "10\n",
      "22.360679774997898\n"
     ]
    }
   ],
   "source": [
    "print(abs(-10))\n",
    "print(abs(10+20j))"
   ]
  },
  {
   "cell_type": "code",
   "execution_count": 36,
   "metadata": {},
   "outputs": [
    {
     "name": "stdout",
     "output_type": "stream",
     "text": [
      "0\n",
      "1\n",
      "2\n",
      "3\n",
      "4\n",
      "5\n",
      "6\n",
      "7\n",
      "8\n",
      "9\n"
     ]
    }
   ],
   "source": [
    "for i in range(10):\n",
    "    print(i)"
   ]
  },
  {
   "cell_type": "code",
   "execution_count": 38,
   "metadata": {},
   "outputs": [
    {
     "name": "stdout",
     "output_type": "stream",
     "text": [
      "0\n",
      "1\n",
      "2\n",
      "3\n",
      "4\n",
      "5\n",
      "6\n"
     ]
    }
   ],
   "source": [
    "for i in range(10):\n",
    "    if i == 7:\n",
    "        break\n",
    "    else:\n",
    "        print(i)"
   ]
  },
  {
   "cell_type": "code",
   "execution_count": 41,
   "metadata": {},
   "outputs": [
    {
     "name": "stdout",
     "output_type": "stream",
     "text": [
      "0\n",
      "1\n",
      "2\n",
      "3\n",
      "4\n",
      "5\n",
      "6\n",
      "\n",
      "0\n",
      "1\n",
      "2\n",
      "3\n",
      "4\n",
      "5\n",
      "6\n",
      "\n",
      "0\n",
      "1\n",
      "2\n",
      "3\n",
      "4\n",
      "5\n",
      "6\n",
      "\n",
      "0\n",
      "1\n",
      "2\n",
      "3\n",
      "4\n",
      "5\n",
      "6\n",
      "\n",
      "0\n",
      "1\n",
      "2\n",
      "3\n",
      "4\n",
      "5\n",
      "6\n",
      "\n",
      "0\n",
      "1\n",
      "2\n",
      "3\n",
      "4\n",
      "5\n",
      "6\n",
      "\n"
     ]
    }
   ],
   "source": [
    "for j in range(10):\n",
    "    for i in range(10):\n",
    "        if i == 7:\n",
    "            break\n",
    "        else:\n",
    "            print(i)\n",
    "    print()\n",
    "    if j == 5:\n",
    "        break"
   ]
  },
  {
   "cell_type": "code",
   "execution_count": 42,
   "metadata": {},
   "outputs": [
    {
     "name": "stdout",
     "output_type": "stream",
     "text": [
      "0\n",
      "1\n",
      "2\n",
      "3\n",
      "4\n",
      "5\n",
      "6\n",
      "8\n",
      "9\n"
     ]
    }
   ],
   "source": [
    "for i in range(10):\n",
    "    if i == 7:\n",
    "        continue\n",
    "    else:\n",
    "        print(i)"
   ]
  },
  {
   "cell_type": "code",
   "execution_count": 44,
   "metadata": {},
   "outputs": [
    {
     "name": "stdout",
     "output_type": "stream",
     "text": [
      "0\n",
      "1\n",
      "2\n",
      "3\n",
      "5\n",
      "6\n",
      "8\n",
      "9\n"
     ]
    }
   ],
   "source": [
    "for i in range(10):\n",
    "    if i == 7 or i ==4:\n",
    "        continue\n",
    "    else:\n",
    "        print(i)"
   ]
  },
  {
   "cell_type": "code",
   "execution_count": 45,
   "metadata": {},
   "outputs": [
    {
     "name": "stdout",
     "output_type": "stream",
     "text": [
      "0\n",
      "1\n",
      "2\n",
      "3\n",
      "4\n",
      "5\n",
      "6\n",
      "7\n",
      "8\n",
      "9\n"
     ]
    }
   ],
   "source": [
    "for i in range(10):\n",
    "    if i == 7 and i ==4:\n",
    "        continue\n",
    "    else:\n",
    "        print(i)"
   ]
  },
  {
   "cell_type": "code",
   "execution_count": 43,
   "metadata": {},
   "outputs": [],
   "source": [
    "for i in range(10):\n",
    "    pass\n",
    "\n",
    "def f1():\n",
    "    pass\n",
    "\n"
   ]
  },
  {
   "cell_type": "code",
   "execution_count": 47,
   "metadata": {},
   "outputs": [
    {
     "name": "stdout",
     "output_type": "stream",
     "text": [
      "1\n",
      "10\n",
      "20\n",
      "2\n",
      "10\n"
     ]
    }
   ],
   "source": [
    "x = [1, 2]\n",
    "y = [10, 100]\n",
    "for i in x: \n",
    "    for j in y: \n",
    "        if i % 2 == 0: \n",
    "            print(i * j)\n",
    "        print(i)\n",
    "        break\n",
    "    print(j)"
   ]
  },
  {
   "cell_type": "code",
   "execution_count": 50,
   "metadata": {},
   "outputs": [
    {
     "name": "stdout",
     "output_type": "stream",
     "text": [
      "1\n",
      "1\n",
      "100\n",
      "10\n"
     ]
    }
   ],
   "source": [
    "x = [1, 2]\n",
    "y = [10, 100]\n",
    "for i in x: \n",
    "    for j in y: \n",
    "        if i % 2 == 0: \n",
    "            break\n",
    "            print(i * j)\n",
    "        print(i)\n",
    "    print(j)\n",
    "    \n",
    "# 1\n",
    "# 1\n",
    "# 100\n",
    "# 10"
   ]
  },
  {
   "cell_type": "code",
   "execution_count": 51,
   "metadata": {},
   "outputs": [
    {
     "name": "stdout",
     "output_type": "stream",
     "text": [
      "1\n",
      "1\n",
      "100\n",
      "20\n",
      "200\n",
      "100\n"
     ]
    }
   ],
   "source": [
    "x = [1, 2]\n",
    "y = [10, 100]\n",
    "\n",
    "for i in x:\n",
    "    for j in y:\n",
    "        if i % 2 == 0:\n",
    "            print(i * j)\n",
    "            continue\n",
    "        print(i)\n",
    "    print(j)\n",
    "    \n",
    "# Output is:-\n",
    "# 1\n",
    "# 1\n",
    "# 100\n",
    "# 20\n",
    "# 200\n",
    "# 100"
   ]
  },
  {
   "cell_type": "code",
   "execution_count": 56,
   "metadata": {},
   "outputs": [
    {
     "name": "stdout",
     "output_type": "stream",
     "text": [
      "['peter', 'piper', 'picked', 'a', 'peck', 'of', 'pickled', 'peppers']\n"
     ]
    }
   ],
   "source": [
    "#Write a python program to find below output using loop:-\n",
    "\n",
    "#Input:- 'peter piper picked a peck of pickled peppers.'\n",
    "#Output:- ['peter', 'piper', 'picked', 'a', 'peck', 'of', 'pickled', 'peppers']\n",
    "inp_str = 'peter piper picked a peck of pickled peppers.'\n",
    "out_str = ''\n",
    "out_lst = []\n",
    "\n",
    "for i in inp_str:\n",
    "    if i == ' ' or i == '.':\n",
    "        out_lst.append(out_str)\n",
    "#         print(out_str)\n",
    "        out_str = ''\n",
    "    else:\n",
    "        out_str = out_str + i\n",
    "\n",
    "print(out_lst)\n",
    "\n"
   ]
  },
  {
   "cell_type": "code",
   "execution_count": 72,
   "metadata": {},
   "outputs": [
    {
     "name": "stdout",
     "output_type": "stream",
     "text": [
      " peppers pickled of peck a picked piper peter\n"
     ]
    }
   ],
   "source": [
    "#Write a python program to find below output using loop:-\n",
    "\n",
    "#Input:- 'peter piper picked a peck of pickled peppers.'\n",
    "#Output:- 'peppers pickled of peck a picked piper peter'\n",
    "\n",
    "inp_str = 'peter piper picked a peck of pickled peppers.'\n",
    "out_str = ''\n",
    "out_lst = []\n",
    "\n",
    "for i in inp_str:\n",
    "    if i == ' ' or i == '.':\n",
    "        out_lst.append(out_str)\n",
    "#         print(out_str)\n",
    "        out_str = ''\n",
    "    else:\n",
    "        out_str = out_str + i\n",
    "        \n",
    "# out1_lst = []\n",
    "# for i in range(len(out_lst)):\n",
    "#     out1_lst.append(out_lst[-(i+1)])\n",
    "    \n",
    "# print(out1_lst)\n",
    "\n",
    "# out1_str = ''\n",
    "# for i in out1_lst:\n",
    "#     out1_str  = out1_str + ' ' + i\n",
    "\n",
    "# print(out1_str)\n",
    "\n",
    "out1_str = ''\n",
    "\n",
    "for i in range(-1, -(len(out_lst)+1),-1):\n",
    "    out1_str = out1_str + ' ' + out_lst[i]\n",
    "    \n",
    "print(out1_str)"
   ]
  },
  {
   "cell_type": "code",
   "execution_count": 3,
   "metadata": {},
   "outputs": [
    {
     "name": "stdout",
     "output_type": "stream",
     "text": [
      "[0, 'P']\n",
      "[1, 'y']\n",
      "[2, 't']\n",
      "[3, 'h']\n",
      "[4, 'o']\n",
      "[5, 'n']\n"
     ]
    }
   ],
   "source": [
    "a = 'Python'\n",
    "\n",
    "for i in range(len(a)):\n",
    "    lst = [i]\n",
    "    lst.append(a[i])\n",
    "    print(lst)"
   ]
  },
  {
   "cell_type": "code",
   "execution_count": 7,
   "metadata": {},
   "outputs": [
    {
     "name": "stdout",
     "output_type": "stream",
     "text": [
      "(0, 'P')\n",
      "(1, 'y')\n",
      "(2, 't')\n",
      "(3, 'h')\n",
      "(4, 'o')\n",
      "(5, 'n')\n"
     ]
    }
   ],
   "source": [
    "a = 'Python'\n",
    "\n",
    "for i in enumerate(a):\n",
    "    print(i)"
   ]
  },
  {
   "cell_type": "code",
   "execution_count": null,
   "metadata": {},
   "outputs": [],
   "source": []
  }
 ],
 "metadata": {
  "kernelspec": {
   "display_name": "Python 3",
   "language": "python",
   "name": "python3"
  },
  "language_info": {
   "codemirror_mode": {
    "name": "ipython",
    "version": 3
   },
   "file_extension": ".py",
   "mimetype": "text/x-python",
   "name": "python",
   "nbconvert_exporter": "python",
   "pygments_lexer": "ipython3",
   "version": "3.7.6"
  }
 },
 "nbformat": 4,
 "nbformat_minor": 4
}
